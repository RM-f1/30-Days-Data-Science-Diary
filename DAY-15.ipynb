{
 "cells": [
  {
   "cell_type": "markdown",
   "id": "185cc85d-d030-44a0-a0f1-1b6f78b70df8",
   "metadata": {},
   "source": [
    "<span style=\"color:blue\">DAY-15</span>"
   ]
  },
  {
   "cell_type": "markdown",
   "id": "3098abb4-cd8b-45e1-80b6-46578435b2f2",
   "metadata": {},
   "source": [
    "<span style=\"color:red;\"><b> \"Printing patterns\" </b></span>"
   ]
  },
  {
   "cell_type": "code",
   "execution_count": 2,
   "id": "dfdff52e-6927-48b8-8c99-46aeef808932",
   "metadata": {},
   "outputs": [
    {
     "name": "stdout",
     "output_type": "stream",
     "text": [
      "*\n",
      "**\n",
      "***\n",
      "****\n",
      "*****\n"
     ]
    }
   ],
   "source": [
    "# right angled triangle\n",
    "n = 5\n",
    "for i in range(1, n + 1):\n",
    "    print(\"*\" * i)\n"
   ]
  },
  {
   "cell_type": "code",
   "execution_count": 3,
   "id": "32acd675-6d55-4f9a-a8b4-4dc09960aa6f",
   "metadata": {},
   "outputs": [
    {
     "name": "stdout",
     "output_type": "stream",
     "text": [
      "*****\n",
      "****\n",
      "***\n",
      "**\n",
      "*\n"
     ]
    }
   ],
   "source": [
    "#inverted triangle\n",
    "for i in range(n, 0, -1):\n",
    "    print(\"*\" * i)\n"
   ]
  },
  {
   "cell_type": "code",
   "execution_count": 4,
   "id": "b2980476-ff05-4a45-9674-21358c5bb749",
   "metadata": {},
   "outputs": [
    {
     "name": "stdout",
     "output_type": "stream",
     "text": [
      "    * \n",
      "   * * \n",
      "  * * * \n",
      " * * * * \n",
      "* * * * * \n"
     ]
    }
   ],
   "source": [
    "#pyramid pattern\n",
    "for i in range(n):\n",
    "    print(\" \" * (n - i - 1) + \"* \" * (i + 1))\n"
   ]
  },
  {
   "cell_type": "code",
   "execution_count": 5,
   "id": "98c3adcb-33fd-40c1-b88d-f3e130ad7a3a",
   "metadata": {},
   "outputs": [
    {
     "name": "stdout",
     "output_type": "stream",
     "text": [
      "1 \n",
      "1 2 \n",
      "1 2 3 \n",
      "1 2 3 4 \n",
      "1 2 3 4 5 \n"
     ]
    }
   ],
   "source": [
    "#number triangle\n",
    "for i in range(1, n + 1):\n",
    "    for j in range(1, i + 1):\n",
    "        print(j, end=\" \")\n",
    "    print()\n"
   ]
  },
  {
   "cell_type": "code",
   "execution_count": 6,
   "id": "ddb46899-7595-4a08-ae00-211ff2377ae5",
   "metadata": {},
   "outputs": [
    {
     "name": "stdout",
     "output_type": "stream",
     "text": [
      "1 \n",
      "2 3 \n",
      "4 5 6 \n",
      "7 8 9 10 \n",
      "11 12 13 14 15 \n"
     ]
    }
   ],
   "source": [
    "#Floyd's Triangle\n",
    "num = 1\n",
    "for i in range(1, n + 1):\n",
    "    for j in range(i):\n",
    "        print(num, end=\" \")\n",
    "        num += 1\n",
    "    print()\n"
   ]
  },
  {
   "cell_type": "code",
   "execution_count": 7,
   "id": "88498ee4-a77c-4f83-95df-07803f7adc22",
   "metadata": {},
   "outputs": [
    {
     "name": "stdout",
     "output_type": "stream",
     "text": [
      "    * \n",
      "   * * \n",
      "  * * * \n",
      " * * * * \n",
      "* * * * * \n",
      " * * * * \n",
      "  * * * \n",
      "   * * \n",
      "    * \n"
     ]
    }
   ],
   "source": [
    "#diamond pattern\n",
    "for i in range(n):\n",
    "    print(\" \" * (n - i - 1) + \"* \" * (i + 1))\n",
    "for i in range(n - 2, -1, -1):\n",
    "    print(\" \" * (n - i - 1) + \"* \" * (i + 1))\n"
   ]
  },
  {
   "cell_type": "code",
   "execution_count": null,
   "id": "0321752d-f5fd-4222-b1fa-51ec3c25abd3",
   "metadata": {},
   "outputs": [],
   "source": []
  }
 ],
 "metadata": {
  "kernelspec": {
   "display_name": "Python [conda env:base] *",
   "language": "python",
   "name": "conda-base-py"
  },
  "language_info": {
   "codemirror_mode": {
    "name": "ipython",
    "version": 3
   },
   "file_extension": ".py",
   "mimetype": "text/x-python",
   "name": "python",
   "nbconvert_exporter": "python",
   "pygments_lexer": "ipython3",
   "version": "3.13.5"
  }
 },
 "nbformat": 4,
 "nbformat_minor": 5
}
