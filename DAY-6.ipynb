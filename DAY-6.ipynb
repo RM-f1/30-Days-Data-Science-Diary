{
 "cells": [
  {
   "cell_type": "markdown",
   "id": "323b70b5-4fcf-4956-a606-a16427ff1dbc",
   "metadata": {},
   "source": [
    "<span style=\"color:blue\">DAY-6</span>"
   ]
  },
  {
   "cell_type": "markdown",
   "id": "76550efb-ae1e-4ca5-82cb-3c9ee0ba13df",
   "metadata": {},
   "source": [
    "<span style=\"color:red;\"><b> Strings </b></span>"
   ]
  },
  {
   "cell_type": "markdown",
   "id": "4ea2b95c-2f4a-49bb-95df-3a40cae63ed0",
   "metadata": {},
   "source": [
    "<span style=\"color:pink;\"><b> CONCATENATION </b></span>"
   ]
  },
  {
   "cell_type": "code",
   "execution_count": 5,
   "id": "f94a0714-5c2f-4204-8f21-02665d06b413",
   "metadata": {},
   "outputs": [
    {
     "name": "stdout",
     "output_type": "stream",
     "text": [
      "numpy sum time: 0.004816293716430664\n",
      "list sum time: 0.01054239273071289\n"
     ]
    }
   ],
   "source": [
    "import numpy as np\n",
    "import time as t\n",
    "\n",
    "a = np.arange(1000000)\n",
    "b = list(range(1000000))\n",
    "\n",
    "start = t.time()\n",
    "a_sum = np.sum(a)\n",
    "print(\"numpy sum time:\", t.time() - start)\n",
    "\n",
    "start = t.time()\n",
    "b_sum = sum(b)\n",
    "print(\"list sum time:\", t.time() - start)\n"
   ]
  },
  {
   "cell_type": "code",
   "execution_count": null,
   "id": "981e3ff7-b826-4d16-a698-ea67cd265d31",
   "metadata": {},
   "outputs": [],
   "source": [
    "\n"
   ]
  },
  {
   "cell_type": "code",
   "execution_count": 7,
   "id": "b26d9275-6ab3-4a8c-bcff-bfb40f049c1f",
   "metadata": {},
   "outputs": [
    {
     "name": "stdout",
     "output_type": "stream",
     "text": [
      "[1 2 3 4 5 6 7]\n"
     ]
    }
   ],
   "source": [
    "a=np.arange(1,8)\n",
    "a=np.arange(1,8)\n",
    "import numpy as np\n",
    "\n",
    "\n",
    "print(a)\n"
   ]
  },
  {
   "cell_type": "code",
   "execution_count": null,
   "id": "0c0e0ab1-1d57-445a-a779-c782a0da0e20",
   "metadata": {},
   "outputs": [],
   "source": []
  },
  {
   "cell_type": "code",
   "execution_count": 9,
   "id": "c21100fb-7be3-42ed-ae3e-e832502da18a",
   "metadata": {},
   "outputs": [
    {
     "name": "stdout",
     "output_type": "stream",
     "text": [
      "Array a: [1 2 3 4 5]\n",
      "Array b: [ 6  7  8  9 10]\n",
      "Concatenated array c: [ 1  2  3  4  5  6  7  8  9 10]\n"
     ]
    }
   ],
   "source": [
    "\n",
    "a = np.arange(1, 6)    # array([1, 2, 3, 4, 5])\n",
    "b = np.arange(6, 11)   # array([6, 7, 8, 9, 10])\n",
    "\n",
    "# Concatenating the arrays\n",
    "c = np.concatenate((a, b))\n",
    "\n",
    "# Printing the results\n",
    "print(\"Array a:\", a)\n",
    "print(\"Array b:\", b)\n",
    "print(\"Concatenated array c:\", c)\n"
   ]
  },
  {
   "cell_type": "code",
   "execution_count": null,
   "id": "dc26a1d9-37e1-4795-adfc-c29c7e3b2823",
   "metadata": {},
   "outputs": [],
   "source": []
  },
  {
   "cell_type": "code",
   "execution_count": null,
   "id": "71226727-579f-4179-83ec-26e956976ec5",
   "metadata": {},
   "outputs": [],
   "source": []
  },
  {
   "cell_type": "code",
   "execution_count": null,
   "id": "01201440-d956-4f05-a800-33459b5591a2",
   "metadata": {},
   "outputs": [],
   "source": []
  },
  {
   "cell_type": "code",
   "execution_count": null,
   "id": "e71edbf5-84c9-401a-9038-4e433c7bc9fe",
   "metadata": {},
   "outputs": [],
   "source": []
  },
  {
   "cell_type": "code",
   "execution_count": null,
   "id": "4100c10e-4a6d-44e0-bfc6-554054b74898",
   "metadata": {},
   "outputs": [],
   "source": []
  },
  {
   "cell_type": "code",
   "execution_count": null,
   "id": "bf1d6642-80bb-4ce5-8cd0-dd49dfbd3c8a",
   "metadata": {},
   "outputs": [],
   "source": []
  },
  {
   "cell_type": "code",
   "execution_count": null,
   "id": "61f4b9fc-33a2-40a3-9c72-8ec8fb08ddc0",
   "metadata": {},
   "outputs": [],
   "source": []
  },
  {
   "cell_type": "code",
   "execution_count": null,
   "id": "c9081859-f6dd-4bbe-9e58-e157cbe89d4e",
   "metadata": {},
   "outputs": [],
   "source": []
  },
  {
   "cell_type": "code",
   "execution_count": null,
   "id": "7b29d708-4f68-49ed-9b63-0b94990964e2",
   "metadata": {},
   "outputs": [],
   "source": []
  },
  {
   "cell_type": "code",
   "execution_count": null,
   "id": "147b4d95-7cff-44d3-b622-36c4c1f9256f",
   "metadata": {},
   "outputs": [],
   "source": []
  },
  {
   "cell_type": "code",
   "execution_count": null,
   "id": "b687d8e9-9169-4480-90a7-992cfd1b7b36",
   "metadata": {},
   "outputs": [],
   "source": []
  },
  {
   "cell_type": "code",
   "execution_count": null,
   "id": "557df935-dad4-443b-8283-66d868d8499d",
   "metadata": {},
   "outputs": [],
   "source": []
  },
  {
   "cell_type": "code",
   "execution_count": null,
   "id": "71c477a7-14c3-4693-bd86-ed8f7b447ce6",
   "metadata": {},
   "outputs": [],
   "source": []
  }
 ],
 "metadata": {
  "kernelspec": {
   "display_name": "Python [conda env:base] *",
   "language": "python",
   "name": "conda-base-py"
  },
  "language_info": {
   "codemirror_mode": {
    "name": "ipython",
    "version": 3
   },
   "file_extension": ".py",
   "mimetype": "text/x-python",
   "name": "python",
   "nbconvert_exporter": "python",
   "pygments_lexer": "ipython3",
   "version": "3.13.5"
  }
 },
 "nbformat": 4,
 "nbformat_minor": 5
}
