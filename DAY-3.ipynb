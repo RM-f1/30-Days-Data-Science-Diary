{
 "cells": [
  {
   "cell_type": "markdown",
   "id": "125d24fa-f8db-4b44-a20e-07b5e0629f99",
   "metadata": {},
   "source": [
    "<span style=\"color:blue\"># DAY-3</span>"
   ]
  },
  {
   "cell_type": "markdown",
   "id": "b8ba3d5c-51d2-4cc5-be59-5fbe31a8d936",
   "metadata": {},
   "source": [
    "<span style=\"color:red;\"><b> Functions </b></span>\n",
    "\n",
    "\n"
   ]
  },
  {
   "cell_type": "markdown",
   "id": "066c623e-78fc-4dab-bf3a-50f9558574c2",
   "metadata": {},
   "source": [
    "<div style='color:purple; font-size:16px;'>\n",
    "  <p>This creates a function called <code>least_difference</code>, which takes three arguments, <code>a</code>, <code>b</code>, and <code>c</code>.</p>\n",
    "  <p>Functions start with a header introduced by the <code>def</code> keyword. The indented block of code following the <code>:</code> is run when the function is called.</p>\n",
    "  <p><code>return</code> is another keyword uniquely associated with functions. When Python encounters a return statement, it exits the function immediately, and passes the value on the right hand side to the calling context.</p>\n",
    "  <div style=\"color:purple;\">\n",
    "    <i>\n",
    "      \n",
    "      \n",
    "      \n",
    "  </div>\n",
    "</div>\n"
   ]
  },
  {
   "cell_type": "code",
   "execution_count": 1,
   "id": "da952f96-5dcc-43df-bda5-8672fedf0761",
   "metadata": {},
   "outputs": [],
   "source": [
    "def least_difference(a, b, c):\n",
    "    diff1 = abs(a - b)\n",
    "    diff2 = abs(b - c)\n",
    "    diff3 = abs(a - c)\n",
    "    return min(diff1, diff2, diff3)"
   ]
  },
  {
   "cell_type": "code",
   "execution_count": 2,
   "id": "5a85a80c-01a0-43c2-a89e-8b7739c95f69",
   "metadata": {},
   "outputs": [
    {
     "name": "stdout",
     "output_type": "stream",
     "text": [
      "9 0 1\n"
     ]
    }
   ],
   "source": [
    "print(\n",
    "    least_difference(1, 10, 100),\n",
    "    least_difference(1, 10, 10),\n",
    "    least_difference(5, 6, 7), # Python allows trailing commas in argument lists. How nice is that?\n",
    ")"
   ]
  },
  {
   "cell_type": "code",
   "execution_count": 3,
   "id": "6401d5b5-56e0-4e6d-a2b8-9bbb9049b717",
   "metadata": {},
   "outputs": [],
   "source": [
    "def least_difference(a, b, c):\n",
    "    \"\"\"Return the smallest difference between any two numbers\n",
    "    among a, b and c.\n",
    "    \n",
    "    >>> least_difference(1, 5, -5)\n",
    "    4\n",
    "    \"\"\"\n",
    "    diff1 = abs(a - b)\n",
    "    diff2 = abs(b - c)\n",
    "    diff3 = abs(a - c)\n",
    "    return min(diff1, diff2, diff3)"
   ]
  },
  {
   "cell_type": "code",
   "execution_count": 4,
   "id": "6ead93a4-6da2-4e8e-80dc-766bf41f4463",
   "metadata": {},
   "outputs": [
    {
     "data": {
      "text/plain": [
       "1"
      ]
     },
     "execution_count": 4,
     "metadata": {},
     "output_type": "execute_result"
    }
   ],
   "source": [
    "least_difference(2,3,6)"
   ]
  },
  {
   "cell_type": "code",
   "execution_count": 6,
   "id": "5b28d3e1-6730-4aa9-9486-5bd94da732bd",
   "metadata": {},
   "outputs": [],
   "source": [
    "#Default arguments¶\n",
    "#When we called help(print), we saw that the print function has several optional arguments. \n",
    "#For example, we can specify a value for sep to put some special string in between our printed arguments:"
   ]
  },
  {
   "cell_type": "code",
   "execution_count": 7,
   "id": "09b59e5e-645b-442a-9f28-fd9449369c1d",
   "metadata": {},
   "outputs": [
    {
     "name": "stdout",
     "output_type": "stream",
     "text": [
      "1 < 2 < 3\n"
     ]
    }
   ],
   "source": [
    "print(1, 2, 3, sep=' < ')"
   ]
  },
  {
   "cell_type": "code",
   "execution_count": 8,
   "id": "e3bf1ecc-e919-41b3-82dd-399065120919",
   "metadata": {},
   "outputs": [],
   "source": [
    "def round_to_two_places(num):\n",
    "    \"\"\"Return the given number rounded to two decimal places. \n",
    "    \n",
    "    >>> round_to_two_places(3.14159)\n",
    "    3.14\n",
    "    \"\"\"\n",
    "    \n",
    "    return round(num, 2)\n",
    "    # Replace this body with your own code.\n",
    "    # (\"pass\" is a keyword that does literally nothing. We used it as a placeholder\n",
    "    # because after we begin a code block, Python requires at least one line of code)\n",
    "    pass"
   ]
  },
  {
   "cell_type": "code",
   "execution_count": 9,
   "id": "c09a97c8-f79f-4e94-9e92-3fc76ba07c01",
   "metadata": {},
   "outputs": [
    {
     "data": {
      "text/plain": [
       "3.11"
      ]
     },
     "execution_count": 9,
     "metadata": {},
     "output_type": "execute_result"
    }
   ],
   "source": [
    "round_to_two_places(3.111889)"
   ]
  },
  {
   "cell_type": "code",
   "execution_count": 10,
   "id": "14adf0dc-0f24-4893-ac38-413c5db3c3c5",
   "metadata": {},
   "outputs": [
    {
     "data": {
      "text/plain": [
       "0.0"
      ]
     },
     "execution_count": 10,
     "metadata": {},
     "output_type": "execute_result"
    }
   ],
   "source": [
    "round(3.156277,-2)"
   ]
  },
  {
   "cell_type": "code",
   "execution_count": 11,
   "id": "087e9a43-6611-42d7-8c3e-3b73e06ea81d",
   "metadata": {},
   "outputs": [],
   "source": [
    "def to_smash(total_candies ,n_friends=3):\n",
    "    \"\"\"Return the number of leftover candies that must be smashed after distributing\n",
    "    the given number of candies evenly between 3 friends.\n",
    "    \n",
    "    >>> to_smash(91)\n",
    "    1\n",
    "    \"\"\"\n",
    "    return total_candies % n_friends\n"
   ]
  },
  {
   "cell_type": "code",
   "execution_count": 14,
   "id": "c695adce-c388-4d24-a608-4a6b50168efb",
   "metadata": {},
   "outputs": [
    {
     "data": {
      "text/plain": [
       "0"
      ]
     },
     "execution_count": 14,
     "metadata": {},
     "output_type": "execute_result"
    }
   ],
   "source": [
    "to_smash(1000 ,5)"
   ]
  },
  {
   "cell_type": "markdown",
   "id": "6c2226b4-d6d9-4182-86c3-6d7cbc6aa1c0",
   "metadata": {},
   "source": [
    "<span style=\"color:red;\"><b> Lists </b></span>\n",
    "\n",
    "\n"
   ]
  },
  {
   "cell_type": "markdown",
   "id": "06237238-acff-4d6c-99e3-58a550e8980b",
   "metadata": {},
   "source": [
    "<div style=\"color:purple;\">\n",
    "  <i>Lists in Python represent ordered sequences of values.</i>\n",
    "</div>\n"
   ]
  },
  {
   "cell_type": "code",
   "execution_count": 16,
   "id": "f26a699d-9ee1-4a8f-80bd-a821b540de4a",
   "metadata": {},
   "outputs": [],
   "source": [
    "hands = [\n",
    "    ['J', 'Q', 'K'],\n",
    "    ['2', '2', '2'],\n",
    "    ['6', 'A', 'K'], # (Comma after the last element is optional)\n",
    "]\n",
    "# (I could also have written this on one line, but it can get hard to read)\n",
    "hands = [['J', 'Q', 'K'], ['2', '2', '2'], ['6', 'A', 'K']]"
   ]
  },
  {
   "cell_type": "code",
   "execution_count": 17,
   "id": "7264cd3f-229a-4545-bb18-ecb626d71bb5",
   "metadata": {},
   "outputs": [
    {
     "name": "stdout",
     "output_type": "stream",
     "text": [
      "[['J', 'Q', 'K'], ['2', '2', '2'], ['6', 'A', 'K']]\n"
     ]
    }
   ],
   "source": [
    "print(hands)"
   ]
  },
  {
   "cell_type": "code",
   "execution_count": 18,
   "id": "4f3aa7ff-a0b8-4acd-894b-f52ae59dac7d",
   "metadata": {},
   "outputs": [],
   "source": [
    "planets = ['Mercury', 'Venus', 'Earth', 'Mars', 'Jupiter', 'Saturn', 'Uranus', 'Neptune']"
   ]
  },
  {
   "cell_type": "markdown",
   "id": "401fad9f-9eea-490c-a29e-b80c81366b80",
   "metadata": {},
   "source": [
    "<div style=\"color:purple;\">\n",
    "  <i>\n",
    "    Indexing&para;<br>\n",
    "    You can access individual list elements with square brackets.<br><br>\n",
    "    Which planet is closest to the sun? Python uses zero-based indexing, so the first element has index 0.\n",
    "  </i>\n",
    "</div>\n"
   ]
  },
  {
   "cell_type": "code",
   "execution_count": 19,
   "id": "153df503-dfbb-459a-9aa0-da73e44d21fc",
   "metadata": {},
   "outputs": [
    {
     "data": {
      "text/plain": [
       "'Mercury'"
      ]
     },
     "execution_count": 19,
     "metadata": {},
     "output_type": "execute_result"
    }
   ],
   "source": [
    "planets[0]"
   ]
  },
  {
   "cell_type": "code",
   "execution_count": 20,
   "id": "3c9c514f-4bda-4d29-b7e2-4a3ddd06920a",
   "metadata": {},
   "outputs": [
    {
     "data": {
      "text/plain": [
       "'Neptune'"
      ]
     },
     "execution_count": 20,
     "metadata": {},
     "output_type": "execute_result"
    }
   ],
   "source": [
    "planets[-1]"
   ]
  },
  {
   "cell_type": "markdown",
   "id": "bdac3cac-138b-4950-92d0-28d7df159cac",
   "metadata": {},
   "source": [
    "<div style=\"color:purple;\">\n",
    "  <i>\n",
    "    Slicing&para;<br>\n",
    "    What are the first three planets? We can answer this question using slicing:\n",
    "  </i>\n",
    "</div>\n"
   ]
  },
  {
   "cell_type": "code",
   "execution_count": 24,
   "id": "129772d6-7ab1-4c39-a476-0671bad9b411",
   "metadata": {},
   "outputs": [
    {
     "data": {
      "text/plain": [
       "['Mercury', 'Venus', 'Earth']"
      ]
     },
     "execution_count": 24,
     "metadata": {},
     "output_type": "execute_result"
    }
   ],
   "source": [
    "planets[0:3]"
   ]
  },
  {
   "cell_type": "code",
   "execution_count": 25,
   "id": "0f4ec972-d344-4f8f-8492-05f55d53127a",
   "metadata": {},
   "outputs": [
    {
     "data": {
      "text/plain": [
       "['Mercury', 'Venus', 'Earth']"
      ]
     },
     "execution_count": 25,
     "metadata": {},
     "output_type": "execute_result"
    }
   ],
   "source": [
    "planets[:3]"
   ]
  },
  {
   "cell_type": "code",
   "execution_count": 26,
   "id": "d54c803e-de7c-43c3-b0f8-ed5fd32d2668",
   "metadata": {},
   "outputs": [
    {
     "data": {
      "text/plain": [
       "['Mars', 'Jupiter', 'Saturn', 'Uranus', 'Neptune']"
      ]
     },
     "execution_count": 26,
     "metadata": {},
     "output_type": "execute_result"
    }
   ],
   "source": [
    "planets[3:]"
   ]
  },
  {
   "cell_type": "code",
   "execution_count": 27,
   "id": "361a84a1-fe87-4cb9-9d35-eb72a0f197b5",
   "metadata": {},
   "outputs": [],
   "source": [
    "def select_second(L):\n",
    "    \"\"\"Return the second element of the given list. If the list has no second\n",
    "    element, return None.\n",
    "    \"\"\"\n",
    "    if len(L) < 2:\n",
    "        return None\n",
    "    return L[1]"
   ]
  },
  {
   "cell_type": "code",
   "execution_count": 29,
   "id": "bf2a4466-12f3-4325-bd8d-c45267860153",
   "metadata": {},
   "outputs": [
    {
     "data": {
      "text/plain": [
       "2"
      ]
     },
     "execution_count": 29,
     "metadata": {},
     "output_type": "execute_result"
    }
   ],
   "source": [
    "select_second(L=[1,2,3,4])"
   ]
  },
  {
   "cell_type": "code",
   "execution_count": 42,
   "id": "7b09c3a7-86c0-4de2-b978-96941d517e58",
   "metadata": {},
   "outputs": [],
   "source": [
    "def purple_shell(racers):\n",
    "    \"\"\"Given a list of racers, set the first place racer (at the front of the list) to last\n",
    "    place and vice versa.\n",
    "    \n",
    "    >>> r = [\"Mario\", \"Bowser\", \"Luigi\"]\n",
    "    >>> purple_shell(r)\n",
    "    >>> r\n",
    "    [\"Luigi\", \"Bowser\", \"Mario\"]\n",
    "    \"\"\"\n",
    "    temp=racers[0]\n",
    "    racers[0]=racers[-1]\n",
    "    racers[-1]=temp\n"
   ]
  },
  {
   "cell_type": "code",
   "execution_count": 41,
   "id": "d7cca7e0-e52b-4211-bf3c-f0e800daeccf",
   "metadata": {},
   "outputs": [],
   "source": [
    "# #  #We're using lists to record people who attended our party and what order they arrived in. \n",
    "# For example, the following list represents a party with 7 guests, in which Adela showed up first and Ford was the last to arrive:\n",
    "\n",
    "# # party_attendees = ['Adela', 'Fleda', 'Owen', 'May', 'Mona', 'Gilbert', 'Ford']\n",
    "# # A guest is considered 'fashionably late' if they arrived after at least half of the party's guests.\n",
    "# However, they must not be the very last guest (that's taking it too far).\n",
    "# In the above example, Mona and Gilbert are the only guests who were fashionably late.\n",
    "\n",
    "# # Complete the function below which takes a list of party attendees as well as a person, and tells us whether that person is fashionably late."
   ]
  },
  {
   "cell_type": "code",
   "execution_count": 44,
   "id": "12efc88b-9b0a-4928-b161-882cd3eb51fd",
   "metadata": {},
   "outputs": [],
   "source": [
    "def fashionably_late(arrivals, name):\n",
    "    \"\"\"Given an ordered list of arrivals to the party and a name, return whether the guest with that\n",
    "    name was fashionably late.\n",
    "    \"\"\"\n",
    "   \n",
    "    order = arrivals.index(name)\n",
    "    return order >= len(arrivals) / 2 and order != len(arrivals) - 1\n",
    "\n"
   ]
  },
  {
   "cell_type": "code",
   "execution_count": 45,
   "id": "178486ba-6810-4ea4-bc2d-fbff86f5d772",
   "metadata": {},
   "outputs": [
    {
     "name": "stdout",
     "output_type": "stream",
     "text": [
      "True\n"
     ]
    }
   ],
   "source": [
    "# List of guests in the order they arrived\n",
    "arrivals = [\"Alice\", \"Bob\", \"Charlie\", \"Diana\", \"Eva\", \"Frank\"]\n",
    "\n",
    "# Check if \"Diana\" was fashionably late\n",
    "print(fashionably_late(arrivals, \"Diana\"))\n"
   ]
  },
  {
   "cell_type": "code",
   "execution_count": null,
   "id": "b8e36794-9f24-42f7-a777-667322666cdf",
   "metadata": {},
   "outputs": [],
   "source": []
  }
 ],
 "metadata": {
  "kernelspec": {
   "display_name": "Python [conda env:base] *",
   "language": "python",
   "name": "conda-base-py"
  },
  "language_info": {
   "codemirror_mode": {
    "name": "ipython",
    "version": 3
   },
   "file_extension": ".py",
   "mimetype": "text/x-python",
   "name": "python",
   "nbconvert_exporter": "python",
   "pygments_lexer": "ipython3",
   "version": "3.13.5"
  }
 },
 "nbformat": 4,
 "nbformat_minor": 5
}
