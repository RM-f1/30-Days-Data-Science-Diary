{
 "cells": [
  {
   "cell_type": "markdown",
   "id": "5f8e08fa-1c68-40e9-a857-f1f946a633c3",
   "metadata": {},
   "source": [
    "<span style=\"color:blue\"># DAY-2</span>\n",
    "\n",
    "                \n"
   ]
  },
  {
   "cell_type": "markdown",
   "id": "ff6f99b3-5573-4613-9bf5-2379f2b8d095",
   "metadata": {},
   "source": [
    "<span style=\"color:red;\"><b> Arithmetics and Variables</b></span>\n",
    "\n",
    "\n"
   ]
  },
  {
   "cell_type": "markdown",
   "id": "ab9bfc98-82de-4678-8050-bf58a54fba88",
   "metadata": {},
   "source": [
    "<div style=\"color:purple;\">\n",
    "<i>\n",
    "<p>In general, to work with a variable, you need to begin by selecting the name you want to use. Variable names are ideally short and descriptive. They also need to satisfy several requirements:</p>\n",
    "<ul>\n",
    "  <li>They can't have spaces (e.g., <code>test var</code> is not allowed)</li>\n",
    "  <li>They can only include letters, numbers, and underscores (e.g., <code>test_var!</code> is not allowed)</li>\n",
    "  <li>They have to start with a letter or underscore (e.g., <code>1_var</code> is not allowed)</li>\n",
    "</ul>\n",
    "</i>\n",
    "</div>\n"
   ]
  },
  {
   "cell_type": "code",
   "execution_count": 10,
   "id": "7cf07eb2-681e-4a9f-8d09-57f2307e13d9",
   "metadata": {},
   "outputs": [
    {
     "name": "stdout",
     "output_type": "stream",
     "text": [
      "3\n",
      "Saurabh\n"
     ]
    }
   ],
   "source": [
    "my_var=3\n",
    "print(my_var)\n",
    "\n",
    "name = 'Saurabh'\n",
    "print(name)\n"
   ]
  },
  {
   "cell_type": "markdown",
   "id": "0991fddc-57b0-43ae-b9f4-b2bab532f110",
   "metadata": {},
   "source": [
    "<span style=\"color:red;\"><b> Keywords</b></span>"
   ]
  },
  {
   "cell_type": "markdown",
   "id": "b1d1158e-3ad2-46c5-b68d-9328c6c27cbf",
   "metadata": {},
   "source": [
    "<div style=\"color:purple;\">\n",
    "<i>\n",
    "<p>PYTHON IS CASE SENSITIVE</p>\n",
    "<ul>\n",
    "  <li><code>Keywords</code>: reserved words, special meanings\n",
    "</li>\n",
    "  <li> Cannot use as <code>variable names</code></li>\n",
    "</ul>\n",
    "</i>\n",
    "</div>\n"
   ]
  },
  {
   "cell_type": "code",
   "execution_count": 8,
   "id": "9c165c76-7df4-4345-9dc6-6dbc32dce934",
   "metadata": {},
   "outputs": [
    {
     "name": "stdout",
     "output_type": "stream",
     "text": [
      "['False', 'None', 'True', 'and', 'as', 'assert', 'async', 'await', 'break', 'class', 'continue', 'def', 'del', 'elif', 'else', 'except', 'finally', 'for', 'from', 'global', 'if', 'import', 'in', 'is', 'lambda', 'nonlocal', 'not', 'or', 'pass', 'raise', 'return', 'try', 'while', 'with', 'yield']\n"
     ]
    }
   ],
   "source": [
    "import keyword\n",
    "print(keyword.kwlist)"
   ]
  },
  {
   "cell_type": "markdown",
   "id": "8b07cb02-c07d-493f-874d-baee2804400d",
   "metadata": {},
   "source": [
    "<span style=\"color:red;\"><b> Data Types</b></span>"
   ]
  },
  {
   "cell_type": "markdown",
   "id": "4c0885d1-cefe-46da-b918-fba6a9f6e731",
   "metadata": {},
   "source": [
    "<div style=\"color:purple;\">\n",
    "<i>\n",
    "<p><b>Introduction</b></p>\n",
    "\n",
    "<p>Whenever you create a variable in Python, it has a value with a corresponding data type. There are many different data types, such as integers, floats, booleans, and strings, all of which we'll cover in this lesson. (This is just a small subset of the available data types -- there are also dictionaries, sets, lists, tuples, and much more.)</p>\n",
    "\n",
    "<p>Data types are important, because they determine what kinds of actions you can do with them. For instance, you can divide two floats, but you cannot divide two strings. For instance, <code>12.0 / 2.0</code> makes sense, but <code>\"cat\" / \"dog\"</code> does not.</p>\n",
    "\n",
    "<p>To avoid errors, we need to make sure that the actions match the data types that we have.</p>\n",
    "</i>\n",
    "</div>\n"
   ]
  },
  {
   "cell_type": "code",
   "execution_count": 11,
   "id": "518fb368-e255-4e61-a107-c458128e1fd8",
   "metadata": {},
   "outputs": [
    {
     "name": "stdout",
     "output_type": "stream",
     "text": [
      "14\n",
      "<class 'int'>\n"
     ]
    }
   ],
   "source": [
    "#Integers\n",
    "x=14\n",
    "print(x)\n",
    "print(type(x))"
   ]
  },
  {
   "cell_type": "code",
   "execution_count": null,
   "id": "bd4d3c39-7ce0-4b39-bb63-d9385dd295d8",
   "metadata": {},
   "outputs": [],
   "source": []
  },
  {
   "cell_type": "code",
   "execution_count": 12,
   "id": "3456eecd-b492-4200-93b4-7c817b68c301",
   "metadata": {},
   "outputs": [
    {
     "name": "stdout",
     "output_type": "stream",
     "text": [
      "3.141592653589793\n",
      "<class 'float'>\n"
     ]
    }
   ],
   "source": [
    "#Float\n",
    "x= 3.141592653589793238462643383279502884197169399375105820974944\n",
    "print(x)\n",
    "print(type(x))\n"
   ]
  },
  {
   "cell_type": "code",
   "execution_count": 14,
   "id": "024660c1-feb3-408b-b9c7-47ce65031633",
   "metadata": {},
   "outputs": [
    {
     "name": "stdout",
     "output_type": "stream",
     "text": [
      "3.141592653589793\n",
      "<class 'float'>\n"
     ]
    }
   ],
   "source": [
    "rounded_pi = round(x, 5)\n",
    "print(x)\n",
    "print(type(x))\n"
   ]
  },
  {
   "cell_type": "code",
   "execution_count": null,
   "id": "744477ba-f816-44df-b38e-3f97b4a39775",
   "metadata": {},
   "outputs": [],
   "source": [
    "\n"
   ]
  },
  {
   "cell_type": "code",
   "execution_count": 16,
   "id": "1909c77c-58ed-4a6b-847d-f622e907e6d8",
   "metadata": {},
   "outputs": [
    {
     "name": "stdout",
     "output_type": "stream",
     "text": [
      "True\n",
      "<class 'bool'>\n"
     ]
    }
   ],
   "source": [
    "#Boolean\n",
    "x=True\n",
    "print(x)\n",
    "print(type(x))"
   ]
  },
  {
   "cell_type": "code",
   "execution_count": 17,
   "id": "4ec0962d-458a-4d49-95d1-89a83b520f03",
   "metadata": {},
   "outputs": [
    {
     "name": "stdout",
     "output_type": "stream",
     "text": [
      "True\n",
      "<class 'bool'>\n"
     ]
    }
   ],
   "source": [
    "z_three = (1 < 2)\n",
    "print(z_three)\n",
    "print(type(z_three))\n"
   ]
  },
  {
   "cell_type": "code",
   "execution_count": null,
   "id": "f2af3053-26f6-47c0-8378-ab800a569304",
   "metadata": {},
   "outputs": [],
   "source": [
    "\n"
   ]
  },
  {
   "cell_type": "code",
   "execution_count": 18,
   "id": "6308b0d9-0500-4b9e-836d-74aa5802ba6a",
   "metadata": {},
   "outputs": [
    {
     "name": "stdout",
     "output_type": "stream",
     "text": [
      "Python\n",
      "<class 'str'>\n"
     ]
    }
   ],
   "source": [
    "#String\n",
    "x=\"Python\"\n",
    "print(x)\n",
    "print(type(x))"
   ]
  },
  {
   "cell_type": "code",
   "execution_count": 19,
   "id": "447a8a27-2feb-423f-9014-892ab1f41b90",
   "metadata": {},
   "outputs": [
    {
     "name": "stdout",
     "output_type": "stream",
     "text": [
      "6\n",
      "<class 'str'>\n",
      "0\n"
     ]
    }
   ],
   "source": [
    "print(len(x))\n",
    "shortest_string = \"\"\n",
    "print(type(shortest_string))\n",
    "print(len(shortest_string))"
   ]
  },
  {
   "cell_type": "code",
   "execution_count": null,
   "id": "6c6fa467-8e9a-4040-9eec-a5bd65a35ea2",
   "metadata": {},
   "outputs": [],
   "source": []
  },
  {
   "cell_type": "markdown",
   "id": "737040ae-28ad-4542-bdb8-0947b2e34a4c",
   "metadata": {},
   "source": [
    "## Question \n",
    "\n",
    "In this question, you will build off your work from the previous exercise to write a function that estimates the value of a house.\n",
    "\n",
    "Use the next code cell to create a function `get_expected_cost` that takes as input three variables:\n",
    "- `beds` - number of bedrooms (data type float)\n",
    "- `baths` - number of bathrooms (data type float)\n",
    "- `has_basement` - whether or not the house has a basement (data type boolean)\n",
    "\n",
    "It should return the expected cost of a house with those characteristics. Assume that:\n",
    "- the expected cost for a house with 0 bedrooms and 0 bathrooms, and no basement is 80000, \n",
    "- each bedroom adds 30000 to the expected cost,\n",
    "- each bathroom adds 10000 to the expected cost, and\n",
    "- a basement adds 40000 to the expected cost.\n",
    "\n",
    "For instance,\n",
    "- a house with 1 bedroom, 1 bathroom, and no basement has an expected cost of 80000 + 30000 + 10000 = 120000.  This value will be calculated with `get_expected_cost(1, 1, False)`.\n",
    "- a house with 2 bedrooms, 1 bathroom, and a basement has an expected cost of 80000 + 2*30000 + 10000 + 40000 = 190000.  This value will be calculated with `get_expected_cost(2, 1, True)`.\n",
    "\n",
    "Remember you can always get a hint by uncommenting `q3.hint()` in the code cell following the next!\n",
    "\n"
   ]
  },
  {
   "cell_type": "code",
   "execution_count": 43,
   "id": "949b3a33-8837-4a44-b077-992ca32978a9",
   "metadata": {},
   "outputs": [],
   "source": [
    "def get_expected_cost(beds, baths, has_basement):\n",
    "    starting_cost=80000\n",
    "    bedroom_cost=30000\n",
    "    bathroom_cost=10000\n",
    "    basement_cost=40000\n",
    "    value = starting_cost+bedroom_cost*beds+bathroom_cost*baths+basement_cost*has_basement\n",
    "    return value"
   ]
  },
  {
   "cell_type": "code",
   "execution_count": 44,
   "id": "e065d47d-8edc-4c42-8434-2dc0c8c508f0",
   "metadata": {},
   "outputs": [
    {
     "data": {
      "text/plain": [
       "270000"
      ]
     },
     "execution_count": 44,
     "metadata": {},
     "output_type": "execute_result"
    }
   ],
   "source": [
    "get_expected_cost(4,3,True)"
   ]
  },
  {
   "cell_type": "code",
   "execution_count": 45,
   "id": "cf65bcd6-a41b-4697-9a36-a95394c9cb53",
   "metadata": {},
   "outputs": [
    {
     "name": "stdout",
     "output_type": "stream",
     "text": [
      "0\n",
      "1\n",
      "1\n",
      "2\n",
      "3\n"
     ]
    }
   ],
   "source": [
    "print(False + False)\n",
    "print(True + False)\n",
    "print(False + True)\n",
    "print(True + True)\n",
    "print(False + True + True + True)"
   ]
  },
  {
   "cell_type": "code",
   "execution_count": null,
   "id": "1d64c73a-40d0-41ef-ad39-c78c332f1c9a",
   "metadata": {},
   "outputs": [],
   "source": [
    "## Question\n",
    "You own an online shop where you sell rings with custom engravings. You offer both gold plated and solid gold rings.\n",
    "\n",
    "Gold plated rings have a base cost of $50, and you charge $7 per engraved unit.\n",
    "Solid gold rings have a base cost of $100, and you charge $10 per engraved unit.\n",
    "Spaces and punctuation are counted as engraved units.\n",
    "Write a function cost_of_project() that takes two arguments:\n",
    "\n",
    "engraving - a Python string with the text of the engraving\n",
    "solid_gold - a Boolean that indicates whether the ring is solid gold\n",
    "It should return the cost of the project. This question should be fairly challenging, and you may need a hint."
   ]
  },
  {
   "cell_type": "code",
   "execution_count": 46,
   "id": "d0ac41fb-aa65-46ce-a658-7f39f7395ace",
   "metadata": {},
   "outputs": [],
   "source": [
    "def cost_of_project(engraving, solid_gold):\n",
    "    if solid_gold:\n",
    "        base_cost = 100\n",
    "        per_unit_cost = 10\n",
    "    else:\n",
    "        base_cost = 50\n",
    "        per_unit_cost = 7\n",
    "\n",
    "    engraving_length = len(engraving)\n",
    "    total_cost = base_cost + (engraving_length * per_unit_cost)\n",
    "    return total_cost"
   ]
  },
  {
   "cell_type": "code",
   "execution_count": 47,
   "id": "e404145b-1c05-428d-97b4-1b05a1bfda2c",
   "metadata": {},
   "outputs": [
    {
     "name": "stdout",
     "output_type": "stream",
     "text": [
      "240\n"
     ]
    }
   ],
   "source": [
    "project_one = cost_of_project(\"Charlie+Denver\", True)\n",
    "print(project_one)"
   ]
  },
  {
   "cell_type": "markdown",
   "id": "7568a250-b411-4685-8054-e84d6b2211e8",
   "metadata": {},
   "source": [
    "<span style=\"color:red; font-size:16px;\"><b>Conditions & Conditional Statements</b></span>\n"
   ]
  },
  {
   "cell_type": "markdown",
   "id": "7b4d0817-1388-4f0a-8bcc-6512f8106011",
   "metadata": {},
   "source": [
    "<div style=\"color:purple; font-size:16px;\">\n",
    "<i>\n",
    "<p>Conditional statements use conditions to modify how your function runs. They check the value of a condition, and if the condition evaluates to <b>True</b>, then a certain block of code is executed. (Otherwise, if the condition is <b>False</b>, then the code is not run.)</p>\n",
    "</i>\n",
    "</div>\n"
   ]
  },
  {
   "cell_type": "code",
   "execution_count": 28,
   "id": "8d7f79e8-4a24-43b6-8225-777e44ffff59",
   "metadata": {},
   "outputs": [],
   "source": [
    "#if\n",
    "def evaluate_temp(temp):\n",
    "    # Set an initial message\n",
    "    message = \"Normal temperature.\"\n",
    "    # Update value of message only if temperature greater than 38\n",
    "    if temp > 38:\n",
    "        message = \"Fever!\"\n",
    "    return message"
   ]
  },
  {
   "cell_type": "code",
   "execution_count": 29,
   "id": "c7c8d25e-b15a-4928-8f78-e8787ea25bff",
   "metadata": {},
   "outputs": [
    {
     "data": {
      "text/plain": [
       "'Normal temperature.'"
      ]
     },
     "execution_count": 29,
     "metadata": {},
     "output_type": "execute_result"
    }
   ],
   "source": [
    "evaluate_temp(35)\n"
   ]
  },
  {
   "cell_type": "code",
   "execution_count": 30,
   "id": "e6a8cc88-a891-418a-95b0-8d0194707cfb",
   "metadata": {},
   "outputs": [
    {
     "data": {
      "text/plain": [
       "'Fever!'"
      ]
     },
     "execution_count": 30,
     "metadata": {},
     "output_type": "execute_result"
    }
   ],
   "source": [
    "evaluate_temp(40)\n"
   ]
  },
  {
   "cell_type": "code",
   "execution_count": null,
   "id": "8305b0f4-b389-4675-8f30-da6121474514",
   "metadata": {},
   "outputs": [],
   "source": []
  },
  {
   "cell_type": "code",
   "execution_count": null,
   "id": "d6a28a34-3ff2-45c2-927b-4bdcc17ebb7b",
   "metadata": {},
   "outputs": [],
   "source": [
    "#if_else\n",
    "def_evaluate(temp):\n",
    "     if(temp>37):\n",
    "         message=\"fever\"\n",
    "     else:\n",
    "         message=\"normal temperature\"\n",
    "\n",
    "return message\n"
   ]
  },
  {
   "cell_type": "code",
   "execution_count": 32,
   "id": "e45bc3f4-9d32-4b64-94fb-bf9e293b2c2c",
   "metadata": {},
   "outputs": [
    {
     "data": {
      "text/plain": [
       "'Fever!'"
      ]
     },
     "execution_count": 32,
     "metadata": {},
     "output_type": "execute_result"
    }
   ],
   "source": [
    "evaluate_temp(40)\n"
   ]
  },
  {
   "cell_type": "code",
   "execution_count": 36,
   "id": "fd6ae1c4-1361-4f2f-8e44-9a2c993eeeca",
   "metadata": {},
   "outputs": [
    {
     "data": {
      "text/plain": [
       "'Normal temperature.'"
      ]
     },
     "execution_count": 36,
     "metadata": {},
     "output_type": "execute_result"
    }
   ],
   "source": [
    "evaluate_temp(35)\n"
   ]
  },
  {
   "cell_type": "code",
   "execution_count": null,
   "id": "dc4ebbb0-8259-421f-8d55-8074724d15b3",
   "metadata": {},
   "outputs": [],
   "source": []
  },
  {
   "cell_type": "code",
   "execution_count": 37,
   "id": "f545ab1b-f75d-4697-8dc1-ff445b6787d5",
   "metadata": {},
   "outputs": [],
   "source": [
    "#if__elif__else\n",
    "def evaluate_temp_with_elif(temp):\n",
    "    if temp > 38:\n",
    "        message = \"Fever!\"\n",
    "    elif temp > 35:\n",
    "        message = \"Normal temperature.\"\n",
    "    else:\n",
    "        message = \"Low temperature.\"\n",
    "    return message"
   ]
  },
  {
   "cell_type": "code",
   "execution_count": 38,
   "id": "54997c47-ebe3-4ebd-bb2e-972c5166f16c",
   "metadata": {},
   "outputs": [
    {
     "data": {
      "text/plain": [
       "'Fever!'"
      ]
     },
     "execution_count": 38,
     "metadata": {},
     "output_type": "execute_result"
    }
   ],
   "source": [
    " evaluate_temp_with_elif(48)"
   ]
  },
  {
   "cell_type": "code",
   "execution_count": 39,
   "id": "2e07ac35-a6cb-44b8-9a83-ba9969e8ffaa",
   "metadata": {},
   "outputs": [],
   "source": [
    "def get_taxes(earnings):\n",
    "    if earnings < 12000:\n",
    "        tax_owed = .25 * earnings\n",
    "    else:\n",
    "        tax_owed = .30 * earnings\n",
    "    return tax_owed"
   ]
  },
  {
   "cell_type": "code",
   "execution_count": 40,
   "id": "896a1d8f-f18f-4a7a-a15b-0ed3c94f3d47",
   "metadata": {},
   "outputs": [
    {
     "data": {
      "text/plain": [
       "12000.0"
      ]
     },
     "execution_count": 40,
     "metadata": {},
     "output_type": "execute_result"
    }
   ],
   "source": [
    "get_taxes(40000)"
   ]
  },
  {
   "cell_type": "code",
   "execution_count": null,
   "id": "74afbe0d-2a4c-4871-bc78-cd8c12ee6930",
   "metadata": {},
   "outputs": [],
   "source": [
    "##Question\n",
    "In the exercise for the previous lesson, you wrote a function cost_of_project() that estimated the price of rings for an online shop that sells rings with custom engravings. This function did not use conditional statements. In this exercise, you will rewrite the function to use conditional statements. Recall that the online shop has the following price structure:\n",
    "\n",
    "Gold plated rings have a base cost of $50, and you charge \\$7 per engraved unit.\n",
    "Solid gold rings have a base cost of $100, and you charge \\$10 per engraved unit.\n",
    "Spaces and punctuation are counted as engraved units.\n",
    "Your function cost_of_project() takes two arguments:\n",
    "\n",
    "engraving - a Python string with the text of the engraving\n",
    "solid_gold - a Boolean that indicates whether the ring is solid gold\n",
    "It should return the cost of the project."
   ]
  },
  {
   "cell_type": "code",
   "execution_count": 48,
   "id": "f0f1cb17-8244-41ef-9c51-7879753390bd",
   "metadata": {},
   "outputs": [],
   "source": [
    "def cost_of_project(engraving, solid_gold):\n",
    "    if solid_gold == True:\n",
    "        base_cost = 100\n",
    "        engraving_charge = 10\n",
    "    else:\n",
    "        base_cost = 50\n",
    "        engraving_charge = 7\n",
    "    cost = base_cost + len(engraving) * engraving_charge\n",
    "    return cost"
   ]
  },
  {
   "cell_type": "code",
   "execution_count": 52,
   "id": "ef06b732-780c-4ee8-aac4-16486bd7b498",
   "metadata": {},
   "outputs": [
    {
     "data": {
      "text/plain": [
       "150"
      ]
     },
     "execution_count": 52,
     "metadata": {},
     "output_type": "execute_result"
    }
   ],
   "source": [
    " cost_of_project(\"Raman\",True)"
   ]
  },
  {
   "cell_type": "code",
   "execution_count": null,
   "id": "4aa0bd30-f783-431a-a148-5179d4a27bd4",
   "metadata": {},
   "outputs": [],
   "source": [
    "<!-- Programmer at a water agency -->\n",
    "\n",
    "### 💧 Water Bill Calculation Task\n",
    "\n",
    "You are a programmer at a water agency. Recently, you have been tasked to write a function `get_water_bill()` that takes as input:\n",
    "\n",
    "- `num_gallons`: the number of gallons of water that a customer used that month.  \n",
    "  *(This will always be an integer with no decimal part.)*\n",
    "\n",
    "It should output the **water bill**.\n",
    "\n",
    "---\n",
    "\n",
    "### 💵 Water Pricing Structure:\n",
    "\n",
    "| Tier   | Gallon Range        | Price per 1000 Gallons |\n",
    "|--------|---------------------|-------------------------|\n",
    "| Tier 1 | 0 – 8,000           | $5                     |\n",
    "| Tier 2 | 8,001 – 22,000      | $6                     |\n",
    "| Tier 3 | 22,001 – 30,000     | $7                     |\n",
    "| Tier 4 | 30,001+             | $10                    |\n",
    "\n",
    "---\n",
    "\n",
    "### 🧪 Examples:\n",
    "\n",
    "- `get_water_bill(10000)` → `60.0`  \n",
    "  → Placed in Tier 2 → $6 × 10 = **$60**\n",
    "\n",
    "- `get_water_bill(25000)` → `175.0`  \n",
    "  → Placed in Tier 3 → $7 × 25 = **$175**\n",
    "\n",
    "📝 **Do not round your answer.** Your answer may include fractions of a penny.\n"
   ]
  },
  {
   "cell_type": "code",
   "execution_count": 53,
   "id": "de8e1d06-0614-409d-9895-9c573c95624b",
   "metadata": {},
   "outputs": [],
   "source": [
    "def get_water_bill(num_gallons):\n",
    "    if(num_gallons>=0 and num_gallons<=8000):\n",
    "       bill = 5*num_gallons\n",
    "    elif(num_gallons>=8001 and num_gallons<=22000):\n",
    "        bill=6*num_gallons\n",
    "    elif(num_gallons>=22001 and num_gallons<=30000):\n",
    "        bill=7*num_gallons\n",
    "    else:\n",
    "        bill=10*num_gallons\n",
    "    \n",
    "    return bill/1000"
   ]
  },
  {
   "cell_type": "code",
   "execution_count": 54,
   "id": "507c071e-3bff-49be-b41c-34c55220f47a",
   "metadata": {},
   "outputs": [
    {
     "data": {
      "text/plain": [
       "1000.0"
      ]
     },
     "execution_count": 54,
     "metadata": {},
     "output_type": "execute_result"
    }
   ],
   "source": [
    "get_water_bill(100000)"
   ]
  },
  {
   "cell_type": "code",
   "execution_count": null,
   "id": "8ce3814a-437f-4370-a520-1babcaabaed5",
   "metadata": {},
   "outputs": [],
   "source": []
  }
 ],
 "metadata": {
  "kernelspec": {
   "display_name": "Python [conda env:base] *",
   "language": "python",
   "name": "conda-base-py"
  },
  "language_info": {
   "codemirror_mode": {
    "name": "ipython",
    "version": 3
   },
   "file_extension": ".py",
   "mimetype": "text/x-python",
   "name": "python",
   "nbconvert_exporter": "python",
   "pygments_lexer": "ipython3",
   "version": "3.13.5"
  }
 },
 "nbformat": 4,
 "nbformat_minor": 5
}
