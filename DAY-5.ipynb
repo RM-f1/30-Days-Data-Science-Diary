{
 "cells": [
  {
   "cell_type": "markdown",
   "id": "58447139-34c4-47e0-97ba-236374483bb9",
   "metadata": {},
   "source": [
    "<span style=\"color:blue\">DAY-5</span>"
   ]
  },
  {
   "cell_type": "markdown",
   "id": "b26f2035-ef22-4d66-bb1f-9f3310bca4ef",
   "metadata": {},
   "source": [
    "<span style=\"color:red;\"><b> Python and Patterns </b></span>"
   ]
  },
  {
   "cell_type": "code",
   "execution_count": 2,
   "id": "cfd727f1-513f-4567-abcd-4595a1cb441f",
   "metadata": {},
   "outputs": [],
   "source": [
    "# # printing pattern\n",
    "# # * # * #\n",
    "# * # * # *\n",
    "# # * # * #\n",
    "#  * # * # *"
   ]
  },
  {
   "cell_type": "code",
   "execution_count": 5,
   "id": "cbb3372a-367f-4f12-b077-dfad68b3c626",
   "metadata": {},
   "outputs": [
    {
     "name": "stdout",
     "output_type": "stream",
     "text": [
      "# * # * # \n",
      "* # * # * \n",
      "# * # * # \n",
      "* # * # * \n"
     ]
    }
   ],
   "source": [
    "for i in range(4):  # 4 rows\n",
    "    for j in range(5):  # 5 characters per row\n",
    "        if (i + j) % 2 == 0:\n",
    "            print(\"#\", end=\" \")\n",
    "        else:\n",
    "            print(\"*\", end=\" \")\n",
    "    print()  # move to next line after each row\n"
   ]
  },
  {
   "cell_type": "code",
   "execution_count": 16,
   "id": "f2e79ba0-544b-4956-b55a-2572a5a7d3d9",
   "metadata": {},
   "outputs": [
    {
     "name": "stdout",
     "output_type": "stream",
     "text": [
      "second largest number 111\n"
     ]
    }
   ],
   "source": [
    "li = [2, 534, 12, 67, 89, 111]\n",
    "r = max(li)        # r = 534\n",
    "li.remove(r)       # actually removes 534 from list\n",
    "s = max(li)        # now gets second largest\n",
    "\n",
    "print(\"second largest number\", s)\n"
   ]
  },
  {
   "cell_type": "markdown",
   "id": "8a3643c5-dcd3-4b08-b703-7761d7aa4fd6",
   "metadata": {},
   "source": [
    "<!DOCTYPE html>\n",
    "<html>\n",
    "<head>\n",
    " \n",
    "</head>\n",
    "<body style=\"background-color: white;\">\n",
    "\n",
    "<h2 style=\"color: purple; font-style: italic;\">\n",
    "  What is an Array?\n",
    "</h2>\n",
    "\n",
    "<p style=\"color: purple; font-style: italic;\">\n",
    "  An array is a special variable, which can hold more than one value at a time.\n",
    "</p>\n",
    "\n",
    "<p style=\"color: purple; font-style: italic;\">\n",
    "  If you have a list of items (a list of car names, for example), storing the cars in single variables could look like this:\n",
    "</p>\n",
    "\n",
    "<pre style=\"color: purple; font-style: italic; font-family: 'Courier New', monospace;\">\n",
    "car1 = \"Ford\"\n",
    "car2 = \"Volvo\"\n",
    "car3 = \"BMW\"\n",
    "</pre>\n",
    "\n",
    "<p style=\"color: purple; font-style: italic;\">\n",
    "  However, what if you want to loop through the cars and find a specific one? And what if you had not 3 cars, but 300?\n",
    "</p>\n",
    "\n",
    "<p style=\"color: purple; font-style: italic;\">\n",
    "  The solution is an array!\n",
    "</p>\n",
    "\n",
    "<p style=\"color: purple; font-style: italic;\">\n",
    "  An array can hold many values under a single name, and you can access the values by referring to an index number.\n",
    "</p>\n",
    "\n",
    "</body>\n",
    "</html>\n"
   ]
  },
  {
   "cell_type": "code",
   "execution_count": 20,
   "id": "9bb6c283-668d-4588-b4c7-8f2050dca9a7",
   "metadata": {},
   "outputs": [
    {
     "name": "stdout",
     "output_type": "stream",
     "text": [
      "[1, 2, 43, 78, 90]\n"
     ]
    }
   ],
   "source": [
    "arr = [1, 2, 43, 78, 90]  # No parentheses needed around the list\n",
    "\n",
    "print(arr)\n"
   ]
  },
  {
   "cell_type": "code",
   "execution_count": 22,
   "id": "df7340b0-099e-44ce-b344-c9e5cee1971d",
   "metadata": {},
   "outputs": [
    {
     "name": "stdout",
     "output_type": "stream",
     "text": [
      "1\n"
     ]
    }
   ],
   "source": [
    "import numpy as np\n",
    "\n",
    "arr = np.array([1, 2, 43, 78, 90])\n",
    "print(arr.ndim)  # Output: 1 (1-dimensional array)\n"
   ]
  },
  {
   "cell_type": "code",
   "execution_count": 23,
   "id": "aafc325c-725b-4525-9fd4-1ba495799ed3",
   "metadata": {},
   "outputs": [
    {
     "data": {
      "text/plain": [
       "(5,)"
      ]
     },
     "execution_count": 23,
     "metadata": {},
     "output_type": "execute_result"
    }
   ],
   "source": [
    "arr.shape"
   ]
  },
  {
   "cell_type": "code",
   "execution_count": 26,
   "id": "4ae768da-7aa1-4212-8400-1d17be8a4328",
   "metadata": {},
   "outputs": [],
   "source": [
    "array=[1,23,56,78,7]"
   ]
  },
  {
   "cell_type": "code",
   "execution_count": 29,
   "id": "296d1888-34ca-4b84-83e1-fbd5c3909341",
   "metadata": {},
   "outputs": [
    {
     "data": {
      "text/plain": [
       "78"
      ]
     },
     "execution_count": 29,
     "metadata": {},
     "output_type": "execute_result"
    }
   ],
   "source": [
    "array[3]"
   ]
  },
  {
   "cell_type": "code",
   "execution_count": 32,
   "id": "6c64e9f3-614d-48e1-a2bd-0fdccd8d9bbd",
   "metadata": {},
   "outputs": [],
   "source": [
    "arr1=([1,23,56,78,7],[6,8,9,89,3])"
   ]
  },
  {
   "cell_type": "code",
   "execution_count": 33,
   "id": "99de4433-b8ef-4017-973c-5b901ede030a",
   "metadata": {},
   "outputs": [
    {
     "name": "stdout",
     "output_type": "stream",
     "text": [
      "([1, 23, 56, 78, 7], [6, 8, 9, 89, 3])\n"
     ]
    }
   ],
   "source": [
    "print(arr1)\n"
   ]
  },
  {
   "cell_type": "code",
   "execution_count": 35,
   "id": "5f15818c-2b53-4f9c-b7fc-8f743ae0a85e",
   "metadata": {},
   "outputs": [],
   "source": [
    "arr = np.arr1=([1,23,56,78,7],[6,8,9,89,3])"
   ]
  },
  {
   "cell_type": "code",
   "execution_count": 40,
   "id": "1296f7dc-aa5e-4cf8-86d3-4e1df009022b",
   "metadata": {},
   "outputs": [
    {
     "name": "stdout",
     "output_type": "stream",
     "text": [
      "[[23 78]\n",
      " [ 8 89]]\n"
     ]
    }
   ],
   "source": [
    "import numpy as np\n",
    "\n",
    "arr = np.array([[1, 23, 56, 78, 7], \n",
    "                [6, 8, 9, 89, 3]])\n",
    "\n",
    "print(arr[:, 1::2])\n"
   ]
  },
  {
   "cell_type": "code",
   "execution_count": 41,
   "id": "03adc0a2-fdd0-40c5-8d61-5cfca8bc818d",
   "metadata": {},
   "outputs": [
    {
     "data": {
      "text/plain": [
       "array([ 6, 23, 56, 89,  7])"
      ]
     },
     "execution_count": 41,
     "metadata": {},
     "output_type": "execute_result"
    }
   ],
   "source": [
    "np.max(arr1,axis=0)"
   ]
  },
  {
   "cell_type": "code",
   "execution_count": null,
   "id": "62fd88bd-d746-486f-a3ad-15c5ad471af9",
   "metadata": {},
   "outputs": [],
   "source": []
  }
 ],
 "metadata": {
  "kernelspec": {
   "display_name": "Python [conda env:base] *",
   "language": "python",
   "name": "conda-base-py"
  },
  "language_info": {
   "codemirror_mode": {
    "name": "ipython",
    "version": 3
   },
   "file_extension": ".py",
   "mimetype": "text/x-python",
   "name": "python",
   "nbconvert_exporter": "python",
   "pygments_lexer": "ipython3",
   "version": "3.13.5"
  }
 },
 "nbformat": 4,
 "nbformat_minor": 5
}
