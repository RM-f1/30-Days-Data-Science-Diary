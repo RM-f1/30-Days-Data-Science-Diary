{
 "cells": [
  {
   "cell_type": "markdown",
   "id": "4d6db12f-8c9e-41f5-8bd3-3646149ec359",
   "metadata": {},
   "source": [
    "<span style=\"color:blue\">DAY-4</span>"
   ]
  },
  {
   "cell_type": "markdown",
   "id": "d683af28-6c1b-4454-a19e-5302e0ad0716",
   "metadata": {},
   "source": [
    "<span style=\"color:red;\"><b> Strings </b></span>\n",
    "\n",
    "\n"
   ]
  },
  {
   "cell_type": "markdown",
   "id": "c18f4f3d-aecb-43df-a29b-66c7878a53b9",
   "metadata": {},
   "source": [
    "<p style=\"color: purple; font-style: italic;\">\n",
    "  One place where the Python language really shines is in the manipulation of strings. This section will cover some of Python's built-in string methods and formatting operations.\n",
    "</p>\n",
    "\n",
    "<p style=\"color: purple; font-style: italic;\">\n",
    "  Such string manipulation patterns come up often in the context of data science work.\n",
    "</p>\n",
    "\n",
    "<p style=\"color: purple; font-style: italic;\">\n",
    "  <strong>String syntax</strong><br>\n",
    "  You've already seen plenty of strings in examples during the previous lessons, but just to recap, strings in Python can be defined using either single or double quotations. They are functionally equivalent.\n",
    "</p>\n"
   ]
  },
  {
   "cell_type": "code",
   "execution_count": 4,
   "id": "544ef3bc-1011-4d69-8fc3-52f8f575c906",
   "metadata": {},
   "outputs": [
    {
     "data": {
      "text/plain": [
       "True"
      ]
     },
     "execution_count": 4,
     "metadata": {},
     "output_type": "execute_result"
    }
   ],
   "source": [
    "x = 'Pluto is a planet'\n",
    "y = \"Pluto is a planet\"\n",
    "x == y"
   ]
  },
  {
   "cell_type": "code",
   "execution_count": 5,
   "id": "aa98a7ec-1207-4dcc-9b9d-8cd2deb505cf",
   "metadata": {},
   "outputs": [
    {
     "name": "stdout",
     "output_type": "stream",
     "text": [
      "Pluto's a planet!\n",
      "My dog is named \"Pluto\"\n"
     ]
    }
   ],
   "source": [
    "print(\"Pluto's a planet!\")\n",
    "print('My dog is named \"Pluto\"')"
   ]
  },
  {
   "cell_type": "code",
   "execution_count": 11,
   "id": "6061d451-7622-491a-b17f-d45055052042",
   "metadata": {},
   "outputs": [
    {
     "name": "stdout",
     "output_type": "stream",
     "text": [
      "hello\n",
      "world\n"
     ]
    }
   ],
   "source": [
    "triplequoted_hello = \"\"\"hello\n",
    "world\"\"\"\n",
    "print(triplequoted_hello)\n"
   ]
  },
  {
   "cell_type": "code",
   "execution_count": 12,
   "id": "251500e6-242f-44bf-aec8-7cc61e2ee0dc",
   "metadata": {},
   "outputs": [
    {
     "name": "stdout",
     "output_type": "stream",
     "text": [
      "hello\n",
      "world\n",
      "hellopluto"
     ]
    }
   ],
   "source": [
    "print(\"hello\")\n",
    "print(\"world\")\n",
    "print(\"hello\", end='')\n",
    "print(\"pluto\", end='')"
   ]
  },
  {
   "cell_type": "code",
   "execution_count": 13,
   "id": "1666ee0b-f261-4a97-ac4d-7f36cb10c33a",
   "metadata": {},
   "outputs": [
    {
     "data": {
      "text/plain": [
       "'P'"
      ]
     },
     "execution_count": 13,
     "metadata": {},
     "output_type": "execute_result"
    }
   ],
   "source": [
    "# Indexing\n",
    "planet = 'Pluto'\n",
    "planet[0]"
   ]
  },
  {
   "cell_type": "code",
   "execution_count": 14,
   "id": "d2986d0c-61af-436f-8cdc-5b7fa0f3e9b0",
   "metadata": {},
   "outputs": [
    {
     "data": {
      "text/plain": [
       "'uto'"
      ]
     },
     "execution_count": 14,
     "metadata": {},
     "output_type": "execute_result"
    }
   ],
   "source": [
    "# Slicing\n",
    "planet[-3:]"
   ]
  },
  {
   "cell_type": "code",
   "execution_count": 15,
   "id": "87aaa917-646d-4419-be85-89d6cb25c98e",
   "metadata": {},
   "outputs": [
    {
     "data": {
      "text/plain": [
       "['P! ', 'l! ', 'u! ', 't! ', 'o! ']"
      ]
     },
     "execution_count": 15,
     "metadata": {},
     "output_type": "execute_result"
    }
   ],
   "source": [
    "# Yes, we can even loop over them\n",
    "[char+'! ' for char in planet]"
   ]
  },
  {
   "cell_type": "code",
   "execution_count": 16,
   "id": "b3949531-44d0-4450-ab9a-c16a8d3deb26",
   "metadata": {},
   "outputs": [
    {
     "data": {
      "text/plain": [
       "'PLUTO IS A PLANET!'"
      ]
     },
     "execution_count": 16,
     "metadata": {},
     "output_type": "execute_result"
    }
   ],
   "source": [
    "# ALL CAPS\n",
    "claim = \"Pluto is a planet!\"\n",
    "claim.upper()"
   ]
  },
  {
   "cell_type": "code",
   "execution_count": 17,
   "id": "6605dd97-75c1-4de0-9ea4-eb170f7a1e0d",
   "metadata": {},
   "outputs": [
    {
     "data": {
      "text/plain": [
       "'pluto is a planet!'"
      ]
     },
     "execution_count": 17,
     "metadata": {},
     "output_type": "execute_result"
    }
   ],
   "source": [
    "# all lowercase\n",
    "claim.lower()"
   ]
  },
  {
   "cell_type": "code",
   "execution_count": 18,
   "id": "09f27731-649f-4c90-93db-2f7cf8b6386a",
   "metadata": {},
   "outputs": [
    {
     "data": {
      "text/plain": [
       "11"
      ]
     },
     "execution_count": 18,
     "metadata": {},
     "output_type": "execute_result"
    }
   ],
   "source": [
    "# Searching for the first index of a substring\n",
    "claim.index('plan')"
   ]
  },
  {
   "cell_type": "code",
   "execution_count": 19,
   "id": "224176f4-adca-4431-ab6e-dee6fb3e5016",
   "metadata": {},
   "outputs": [],
   "source": [
    "# Going between strings and lists: .split() and .join()¶\n",
    "# # str.split() turns a string into a list of smaller strings,\n",
    "# breaking on whitespace by default. \n",
    "# This is super useful for taking you from one big string to a list of words."
   ]
  },
  {
   "cell_type": "code",
   "execution_count": 30,
   "id": "138abe12-42fa-404f-9419-b57c1c00f770",
   "metadata": {},
   "outputs": [
    {
     "name": "stdout",
     "output_type": "stream",
     "text": [
      "Is 'a' non-empty? False\n"
     ]
    }
   ],
   "source": [
    "a = \"\"\n",
    "length = 0\n",
    "is_empty = bool(a)  # This will be False because the string is empty\n",
    "\n",
    "print(\"Is 'a' non-empty?\", is_empty)\n"
   ]
  },
  {
   "cell_type": "markdown",
   "id": "43005b54-613a-4583-ad5b-1bad975a657e",
   "metadata": {},
   "source": [
    "<p>\n",
    "  There is a saying that \"Data scientists spend 80% of their time cleaning data, and 20% of their time complaining about cleaning data.\" \n",
    "  Let's see if you can write a function to help clean US zip code data.\n",
    "</p>\n",
    "\n",
    "<p>\n",
    "  Given a string, it should return whether or not that string represents a valid zip code. \n",
    "  For our purposes, a valid zip code is any string consisting of exactly 5 digits.\n",
    "</p>\n",
    "\n",
    "<p>\n",
    "  <strong>HINT:</strong> <code>str</code> has a method that will be useful here. \n",
    "  Use <code>help(str)</code> to review a list of string methods.\n",
    "</p>\n"
   ]
  },
  {
   "cell_type": "code",
   "execution_count": null,
   "id": "9a1041f5-9a89-4641-8b09-c40d2ea46d2a",
   "metadata": {},
   "outputs": [],
   "source": [
    "def is_valid_zip(zip_code):\n",
    "    return len(zip_code) == 5 and zip_code.isdigit()"
   ]
  },
  {
   "cell_type": "markdown",
   "id": "92c8bbd5-8bbe-4600-ace5-8685241018c7",
   "metadata": {},
   "source": [
    "<span style=\"color:red;\"><b> Dictionary </b></span>"
   ]
  },
  {
   "cell_type": "markdown",
   "id": "0f48bcdf-a02d-417c-ae6f-dd306b7af1d8",
   "metadata": {},
   "source": [
    "<p style=\"color: purple; font-style: italic;\">\n",
    "  Dictionaries are a built-in Python data structure for mapping keys to values.\n",
    "</p>\n"
   ]
  },
  {
   "cell_type": "code",
   "execution_count": 22,
   "id": "0a116f6a-00ef-4584-aa1c-09bc4173defe",
   "metadata": {},
   "outputs": [],
   "source": [
    "numbers = {'one':1, 'two':2, 'three':3}"
   ]
  },
  {
   "cell_type": "code",
   "execution_count": 23,
   "id": "67a61284-5947-4f0c-9f98-78c6d76fb021",
   "metadata": {},
   "outputs": [
    {
     "data": {
      "text/plain": [
       "1"
      ]
     },
     "execution_count": 23,
     "metadata": {},
     "output_type": "execute_result"
    }
   ],
   "source": [
    "numbers['one']"
   ]
  },
  {
   "cell_type": "code",
   "execution_count": 24,
   "id": "31ad4e8d-3dd8-429f-acf5-13a8ed51706a",
   "metadata": {},
   "outputs": [
    {
     "data": {
      "text/plain": [
       "{'one': 1, 'two': 2, 'three': 3, 'eleven': 11}"
      ]
     },
     "execution_count": 24,
     "metadata": {},
     "output_type": "execute_result"
    }
   ],
   "source": [
    "numbers['eleven'] = 11\n",
    "numbers\n"
   ]
  },
  {
   "cell_type": "code",
   "execution_count": 25,
   "id": "397a85c1-422c-4608-a063-c9ce592d18f3",
   "metadata": {},
   "outputs": [
    {
     "data": {
      "text/plain": [
       "{'Mercury': 'M',\n",
       " 'Venus': 'V',\n",
       " 'Earth': 'E',\n",
       " 'Mars': 'M',\n",
       " 'Jupiter': 'J',\n",
       " 'Saturn': 'S',\n",
       " 'Uranus': 'U',\n",
       " 'Neptune': 'N'}"
      ]
     },
     "execution_count": 25,
     "metadata": {},
     "output_type": "execute_result"
    }
   ],
   "source": [
    "planets = ['Mercury', 'Venus', 'Earth', 'Mars', 'Jupiter', 'Saturn', 'Uranus', 'Neptune']\n",
    "planet_to_initial = {planet: planet[0] for planet in planets}\n",
    "planet_to_initial"
   ]
  },
  {
   "cell_type": "code",
   "execution_count": null,
   "id": "2263d8c2-80e4-40e8-bf24-f32967a91f8b",
   "metadata": {},
   "outputs": [],
   "source": []
  }
 ],
 "metadata": {
  "kernelspec": {
   "display_name": "Python [conda env:base] *",
   "language": "python",
   "name": "conda-base-py"
  },
  "language_info": {
   "codemirror_mode": {
    "name": "ipython",
    "version": 3
   },
   "file_extension": ".py",
   "mimetype": "text/x-python",
   "name": "python",
   "nbconvert_exporter": "python",
   "pygments_lexer": "ipython3",
   "version": "3.13.5"
  }
 },
 "nbformat": 4,
 "nbformat_minor": 5
}
