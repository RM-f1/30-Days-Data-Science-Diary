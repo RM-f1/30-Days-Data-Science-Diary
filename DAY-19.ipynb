{
 "cells": [
  {
   "cell_type": "markdown",
   "id": "d69293b1-3040-4ba2-881b-d7f6b40d1c56",
   "metadata": {},
   "source": [
    "<span style=\"color:blue\">DAY-19</span>"
   ]
  },
  {
   "cell_type": "markdown",
   "id": "aa6efae9-8581-4f51-9151-29d8ca70e87b",
   "metadata": {},
   "source": [
    "<span style=\"color:red;\"><b> Clusterring</b></span>"
   ]
  },
  {
   "cell_type": "markdown",
   "id": "4c79d551-725a-4e65-836e-bfe70ce372b8",
   "metadata": {},
   "source": [
    "<h2 style=\"color:purple;\"><i>Clustering in Data Science</i></h2>\n",
    "\n",
    "<p style=\"color:purple;\">\n",
    "Clustering is an <b>unsupervised learning technique</b> used to group similar data points together based on their features. Unlike supervised learning, clustering doesn't rely on labeled data. Instead, it identifies patterns or groupings in the data automatically.\n",
    "\n",
    "<br><br>\n",
    "\n",
    "<b>Common Clustering Algorithms:</b>\n",
    "<ul style=\"color:purple;\">\n",
    "  <li><b>K-Means Clustering:</b> Divides data into <i>k</i> clusters by minimizing intra-cluster distance.</li>\n",
    "  <li><b>Hierarchical Clustering:</b> Builds a hierarchy of clusters using a tree-like structure (dendrogram).</li>\n",
    "  <li><b>DBSCAN:</b> Groups data points that are closely packed together and marks outliers as noise.</li>\n",
    "</ul>\n",
    "\n",
    "<b>Applications of Clustering:</b>\n",
    "<ul style=\"color:purple;\">\n",
    "  <li>Customer segmentation</li>\n",
    "  <li>Market research</li>\n",
    "  <li>Social network analysis</li>\n",
    "  <li>Document or image classification</li>\n",
    "</ul>\n",
    "\n",
    "<b>Example:</b><br>\n",
    "Using the <i>Iris dataset</i>, clustering can identify species groups based on petal and sepal measurements without knowing the actual species labels.\n",
    "\n",
    "<br><br>\n",
    "Clustering is powerful when dealing with unlabeled data and helps discover hidden patterns or structures.\n",
    "</p>\n"
   ]
  },
  {
   "cell_type": "code",
   "execution_count": 6,
   "id": "76bfcb98-68ef-4609-9019-26d0e0776f41",
   "metadata": {},
   "outputs": [],
   "source": [
    "import pandas as pd\n",
    "import numpy as np\n",
    "\n",
    "from sklearn.cluster import KMeans  # For clustering\n",
    "import datetime                     # For date and time operations\n",
    "from sklearn.datasets import load_iris\n",
    "from sklearn.linear_model import LogisticRegression\n",
    "from sklearn.model_selection import train_test_split\n",
    "from sklearn.metrics import accuracy_score, classification_report, confusion_matrix\n",
    "\n",
    "import seaborn as sns\n",
    "import matplotlib.pyplot as plt\n"
   ]
  },
  {
   "cell_type": "code",
   "execution_count": 10,
   "id": "29dd190b-7c22-4fc2-855d-358392a855a8",
   "metadata": {},
   "outputs": [
    {
     "name": "stdout",
     "output_type": "stream",
     "text": [
      "  Invoice StockCode                          Description  Quantity  \\\n",
      "0  489434     85048  15CM CHRISTMAS GLASS BALL 20 LIGHTS        12   \n",
      "1  489434    79323P                   PINK CHERRY LIGHTS        12   \n",
      "2  489434    79323W                  WHITE CHERRY LIGHTS        12   \n",
      "3  489434     22041         RECORD FRAME 7\" SINGLE SIZE         48   \n",
      "4  489434     21232       STRAWBERRY CERAMIC TRINKET BOX        24   \n",
      "\n",
      "           InvoiceDate  Price  Customer ID         Country  \n",
      "0  2009-12-01 07:45:00   6.95      13085.0  United Kingdom  \n",
      "1  2009-12-01 07:45:00   6.75      13085.0  United Kingdom  \n",
      "2  2009-12-01 07:45:00   6.75      13085.0  United Kingdom  \n",
      "3  2009-12-01 07:45:00   2.10      13085.0  United Kingdom  \n",
      "4  2009-12-01 07:45:00   1.25      13085.0  United Kingdom  \n",
      "<class 'pandas.core.frame.DataFrame'>\n",
      "RangeIndex: 1067371 entries, 0 to 1067370\n",
      "Data columns (total 8 columns):\n",
      " #   Column       Non-Null Count    Dtype  \n",
      "---  ------       --------------    -----  \n",
      " 0   Invoice      1067371 non-null  object \n",
      " 1   StockCode    1067371 non-null  object \n",
      " 2   Description  1062989 non-null  object \n",
      " 3   Quantity     1067371 non-null  int64  \n",
      " 4   InvoiceDate  1067371 non-null  object \n",
      " 5   Price        1067371 non-null  float64\n",
      " 6   Customer ID  824364 non-null   float64\n",
      " 7   Country      1067371 non-null  object \n",
      "dtypes: float64(2), int64(1), object(5)\n",
      "memory usage: 65.1+ MB\n",
      "None\n"
     ]
    }
   ],
   "source": [
    "\n",
    "\n",
    "try:\n",
    "    df = pd.read_csv(\"online_retail_II.csv\")\n",
    "except FileNotFoundError:\n",
    "    print(\"❗ File not found. Please download it from Kaggle and place it in the correct directory.\")\n",
    "    print(\"Kaggle Link: https://www.kaggle.com/datasets/meanlyn/online-retail-1l-wei\")\n",
    "    exit()\n",
    "\n",
    "# Inspect the first 5 rows\n",
    "print(df.head())\n",
    "\n",
    "# Check dataset info\n",
    "print(df.info())\n"
   ]
  },
  {
   "cell_type": "code",
   "execution_count": 11,
   "id": "29c58fab-191e-49c5-935c-f9f1bd818258",
   "metadata": {},
   "outputs": [
    {
     "name": "stdout",
     "output_type": "stream",
     "text": [
      "Invoice             0\n",
      "StockCode           0\n",
      "Description      4382\n",
      "Quantity            0\n",
      "InvoiceDate         0\n",
      "Price               0\n",
      "Customer ID    243007\n",
      "Country             0\n",
      "dtype: int64\n"
     ]
    }
   ],
   "source": [
    "print(df.isnull().sum())"
   ]
  },
  {
   "cell_type": "code",
   "execution_count": 12,
   "id": "42f8ed41-65e2-4241-9432-1220cc41351a",
   "metadata": {},
   "outputs": [
    {
     "data": {
      "text/html": [
       "<div>\n",
       "<style scoped>\n",
       "    .dataframe tbody tr th:only-of-type {\n",
       "        vertical-align: middle;\n",
       "    }\n",
       "\n",
       "    .dataframe tbody tr th {\n",
       "        vertical-align: top;\n",
       "    }\n",
       "\n",
       "    .dataframe thead th {\n",
       "        text-align: right;\n",
       "    }\n",
       "</style>\n",
       "<table border=\"1\" class=\"dataframe\">\n",
       "  <thead>\n",
       "    <tr style=\"text-align: right;\">\n",
       "      <th></th>\n",
       "      <th>Invoice</th>\n",
       "      <th>StockCode</th>\n",
       "      <th>Description</th>\n",
       "      <th>Quantity</th>\n",
       "      <th>InvoiceDate</th>\n",
       "      <th>Price</th>\n",
       "      <th>Customer ID</th>\n",
       "      <th>Country</th>\n",
       "    </tr>\n",
       "  </thead>\n",
       "  <tbody>\n",
       "    <tr>\n",
       "      <th>0</th>\n",
       "      <td>489434</td>\n",
       "      <td>85048</td>\n",
       "      <td>15CM CHRISTMAS GLASS BALL 20 LIGHTS</td>\n",
       "      <td>12</td>\n",
       "      <td>2009-12-01 07:45:00</td>\n",
       "      <td>6.95</td>\n",
       "      <td>13085.0</td>\n",
       "      <td>United Kingdom</td>\n",
       "    </tr>\n",
       "    <tr>\n",
       "      <th>1</th>\n",
       "      <td>489434</td>\n",
       "      <td>79323P</td>\n",
       "      <td>PINK CHERRY LIGHTS</td>\n",
       "      <td>12</td>\n",
       "      <td>2009-12-01 07:45:00</td>\n",
       "      <td>6.75</td>\n",
       "      <td>13085.0</td>\n",
       "      <td>United Kingdom</td>\n",
       "    </tr>\n",
       "    <tr>\n",
       "      <th>2</th>\n",
       "      <td>489434</td>\n",
       "      <td>79323W</td>\n",
       "      <td>WHITE CHERRY LIGHTS</td>\n",
       "      <td>12</td>\n",
       "      <td>2009-12-01 07:45:00</td>\n",
       "      <td>6.75</td>\n",
       "      <td>13085.0</td>\n",
       "      <td>United Kingdom</td>\n",
       "    </tr>\n",
       "    <tr>\n",
       "      <th>3</th>\n",
       "      <td>489434</td>\n",
       "      <td>22041</td>\n",
       "      <td>RECORD FRAME 7\" SINGLE SIZE</td>\n",
       "      <td>48</td>\n",
       "      <td>2009-12-01 07:45:00</td>\n",
       "      <td>2.10</td>\n",
       "      <td>13085.0</td>\n",
       "      <td>United Kingdom</td>\n",
       "    </tr>\n",
       "    <tr>\n",
       "      <th>4</th>\n",
       "      <td>489434</td>\n",
       "      <td>21232</td>\n",
       "      <td>STRAWBERRY CERAMIC TRINKET BOX</td>\n",
       "      <td>24</td>\n",
       "      <td>2009-12-01 07:45:00</td>\n",
       "      <td>1.25</td>\n",
       "      <td>13085.0</td>\n",
       "      <td>United Kingdom</td>\n",
       "    </tr>\n",
       "  </tbody>\n",
       "</table>\n",
       "</div>"
      ],
      "text/plain": [
       "  Invoice StockCode                          Description  Quantity  \\\n",
       "0  489434     85048  15CM CHRISTMAS GLASS BALL 20 LIGHTS        12   \n",
       "1  489434    79323P                   PINK CHERRY LIGHTS        12   \n",
       "2  489434    79323W                  WHITE CHERRY LIGHTS        12   \n",
       "3  489434     22041         RECORD FRAME 7\" SINGLE SIZE         48   \n",
       "4  489434     21232       STRAWBERRY CERAMIC TRINKET BOX        24   \n",
       "\n",
       "           InvoiceDate  Price  Customer ID         Country  \n",
       "0  2009-12-01 07:45:00   6.95      13085.0  United Kingdom  \n",
       "1  2009-12-01 07:45:00   6.75      13085.0  United Kingdom  \n",
       "2  2009-12-01 07:45:00   6.75      13085.0  United Kingdom  \n",
       "3  2009-12-01 07:45:00   2.10      13085.0  United Kingdom  \n",
       "4  2009-12-01 07:45:00   1.25      13085.0  United Kingdom  "
      ]
     },
     "execution_count": 12,
     "metadata": {},
     "output_type": "execute_result"
    }
   ],
   "source": [
    "df.head()"
   ]
  },
  {
   "cell_type": "code",
   "execution_count": 13,
   "id": "27c2e828-c886-4bdf-9701-c183ff047424",
   "metadata": {},
   "outputs": [
    {
     "name": "stdout",
     "output_type": "stream",
     "text": [
      "\n",
      "--- Step 2: Data Cleaning and Preprocessing ---\n",
      "\n",
      "Cleaned DataFrame Head:\n",
      "  Invoice StockCode                          Description  Quantity  \\\n",
      "0  489434     85048  15CM CHRISTMAS GLASS BALL 20 LIGHTS        12   \n",
      "1  489434    79323P                   PINK CHERRY LIGHTS        12   \n",
      "2  489434    79323W                  WHITE CHERRY LIGHTS        12   \n",
      "3  489434     22041         RECORD FRAME 7\" SINGLE SIZE         48   \n",
      "4  489434     21232       STRAWBERRY CERAMIC TRINKET BOX        24   \n",
      "\n",
      "          InvoiceDate  Price  Customer ID         Country  \n",
      "0 2009-12-01 07:45:00   6.95        13085  United Kingdom  \n",
      "1 2009-12-01 07:45:00   6.75        13085  United Kingdom  \n",
      "2 2009-12-01 07:45:00   6.75        13085  United Kingdom  \n",
      "3 2009-12-01 07:45:00   2.10        13085  United Kingdom  \n",
      "4 2009-12-01 07:45:00   1.25        13085  United Kingdom  \n",
      "\n",
      "DataFrame shape after cleaning: (805549, 8)\n"
     ]
    }
   ],
   "source": [
    "\n",
    "\n",
    "print(\"\\n--- Step 2: Data Cleaning and Preprocessing ---\")\n",
    "\n",
    "# Drop rows where Customer ID is null\n",
    "df.dropna(subset=['Customer ID'], inplace=True)\n",
    "\n",
    "# Convert Customer ID to integer (from float)\n",
    "df['Customer ID'] = df['Customer ID'].astype(int)\n",
    "\n",
    "# Remove rows where Quantity or Price are negative or zero\n",
    "df = df[(df['Quantity'] > 0) & (df['Price'] > 0)]\n",
    "\n",
    "# Convert InvoiceDate to datetime object\n",
    "df['InvoiceDate'] = pd.to_datetime(df['InvoiceDate'])\n",
    "\n",
    "# Show cleaned data\n",
    "print(\"\\nCleaned DataFrame Head:\")\n",
    "print(df.head())\n",
    "\n",
    "# Show DataFrame shape after cleaning\n",
    "print(\"\\nDataFrame shape after cleaning:\", df.shape)\n"
   ]
  },
  {
   "cell_type": "code",
   "execution_count": 14,
   "id": "4b541367-6aad-47d3-aeae-11e057f9cfcc",
   "metadata": {},
   "outputs": [
    {
     "name": "stdout",
     "output_type": "stream",
     "text": [
      "\n",
      "--- Step 3: Calculating RFM Metrics ---\n",
      "📅 Snapshot Date for Recency calculation: 2011-12-10\n",
      "\n",
      "📝 RFM DataFrame Head:\n",
      "   Customer ID  Recency  Frequency  Monetary\n",
      "0        12346      326         12  77556.46\n",
      "1        12347        2          8   5633.32\n",
      "2        12348       75          5   2019.40\n",
      "3        12349       19          4   4428.69\n",
      "4        12350      310          1    334.40\n",
      "\n",
      "📊 RFM DataFrame Description:\n",
      "        Customer ID      Recency    Frequency       Monetary\n",
      "count   5878.000000  5878.000000  5878.000000    5878.000000\n",
      "mean   15315.313542   201.331916     6.289384    3018.616737\n",
      "std     1715.572666   209.338707    13.009406   14737.731040\n",
      "min    12346.000000     1.000000     1.000000       2.950000\n",
      "25%    13833.250000    26.000000     1.000000     348.762500\n",
      "50%    15314.500000    96.000000     3.000000     898.915000\n",
      "75%    16797.750000   380.000000     7.000000    2307.090000\n",
      "max    18287.000000   739.000000   398.000000  608821.650000\n"
     ]
    }
   ],
   "source": [
    "\n",
    "from datetime import timedelta\n",
    "\n",
    "print(\"\\n--- Step 3: Calculating RFM Metrics ---\")\n",
    "\n",
    "# Step 1 — Calculate Total Price for each transaction\n",
    "df['TotalPrice'] = df['Quantity'] * df['Price']\n",
    "\n",
    "# Step 2 — Define snapshot date (day after the last invoice date)\n",
    "snapshot_date = df['InvoiceDate'].max() + timedelta(days=1)\n",
    "print(f\"📅 Snapshot Date for Recency calculation: {snapshot_date.date()}\")\n",
    "\n",
    "# Step 3 — Group by Customer ID and calculate RFM\n",
    "rfm_df = df.groupby('Customer ID').agg({\n",
    "    'InvoiceDate': lambda date: (snapshot_date - date.max()).days,   # Recency\n",
    "    'Invoice': 'nunique',                                            # Frequency\n",
    "    'TotalPrice': 'sum'                                              # Monetary\n",
    "}).reset_index()\n",
    "\n",
    "# Step 4 — Rename columns\n",
    "rfm_df.rename(columns={\n",
    "    'InvoiceDate': 'Recency',\n",
    "    'Invoice': 'Frequency',\n",
    "    'TotalPrice': 'Monetary'\n",
    "}, inplace=True)\n",
    "\n",
    "# Step 5 — Display results\n",
    "print(\"\\n📝 RFM DataFrame Head:\")\n",
    "print(rfm_df.head())\n",
    "\n",
    "print(\"\\n📊 RFM DataFrame Description:\")\n",
    "print(rfm_df.describe())\n"
   ]
  },
  {
   "cell_type": "code",
   "execution_count": 15,
   "id": "fc1e8804-d917-40ff-a040-6120bc0ea6d8",
   "metadata": {},
   "outputs": [
    {
     "data": {
      "image/png": "[encoded data removed]",
      "text/plain": [
       "<Figure size 1800x500 with 3 Axes>"
      ]
     },
     "metadata": {},
     "output_type": "display_data"
    }
   ],
   "source": [
    "import matplotlib.pyplot as plt\n",
    "import seaborn as sns\n",
    "\n",
    "plt.figure(figsize=(18, 5))\n",
    "\n",
    "# Recency Boxplot\n",
    "plt.subplot(1, 3, 1)\n",
    "sns.boxplot(y=rfm_df['Recency'])\n",
    "plt.title('Recency Distribution')\n",
    "\n",
    "# Frequency Boxplot\n",
    "plt.subplot(1, 3, 2)\n",
    "sns.boxplot(y=rfm_df['Frequency'])\n",
    "plt.title('Frequency Distribution')\n",
    "\n",
    "# Monetary Boxplot\n",
    "plt.subplot(1, 3, 3)\n",
    "sns.boxplot(y=rfm_df['Monetary'])\n",
    "plt.title('Monetary Distribution')\n",
    "\n",
    "plt.tight_layout()\n",
    "plt.show()\n"
   ]
  },
  {
   "cell_type": "code",
   "execution_count": null,
   "id": "6becbd18-d69f-4a1d-b75c-0ad2ff1d392a",
   "metadata": {},
   "outputs": [],
   "source": []
  }
 ],
 "metadata": {
  "kernelspec": {
   "display_name": "Python [conda env:base] *",
   "language": "python",
   "name": "conda-base-py"
  },
  "language_info": {
   "codemirror_mode": {
    "name": "ipython",
    "version": 3
   },
   "file_extension": ".py",
   "mimetype": "text/x-python",
   "name": "python",
   "nbconvert_exporter": "python",
   "pygments_lexer": "ipython3",
   "version": "3.13.5"
  }
 },
 "nbformat": 4,
 "nbformat_minor": 5
}
