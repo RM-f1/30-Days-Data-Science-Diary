{
 "cells": [
  {
   "cell_type": "markdown",
   "id": "5338e6d8-39a5-485a-a59f-c737f28ee0bb",
   "metadata": {},
   "source": [
    "<span style=\"color:blue\">DAY-9</span>"
   ]
  },
  {
   "cell_type": "markdown",
   "id": "860d9d11-47ca-4429-b3a2-a9b6da8cf8d9",
   "metadata": {},
   "source": [
    "<span style=\"color:red;\"><b> STRINGS </b></span>"
   ]
  },
  {
   "cell_type": "code",
   "execution_count": 1,
   "id": "ba84f235-045b-4ab6-9dd7-ad723624f545",
   "metadata": {},
   "outputs": [
    {
     "name": "stdout",
     "output_type": "stream",
     "text": [
      "\tHELLO\n",
      "\\tHELLO\n"
     ]
    }
   ],
   "source": [
    "a = '\\tHELLO'  # String with tab character (\\t) before HELLO\n",
    "b = r'\\tHELLO'  # Raw string, treats \\t as two separate characters '\\' and 't'\n",
    "\n",
    "print(a)  # This will print:   (tab space) HELLO  --> The \\t adds a horizontal tab\n",
    "print(b)  # This will print:   \\tHELLO  --> The \\t is printed as it is (no tab space)\n"
   ]
  },
  {
   "cell_type": "code",
   "execution_count": 2,
   "id": "cfe89b95-9b5e-4c0b-bf8a-067a71166194",
   "metadata": {},
   "outputs": [],
   "source": [
    "import re\n"
   ]
  },
  {
   "cell_type": "code",
   "execution_count": 3,
   "id": "be36f6c4-8c16-4ed1-817a-bcb834148fa1",
   "metadata": {},
   "outputs": [],
   "source": [
    "# re.match()\n",
    "# Checks for a match only at the beginning of the string\n",
    "\n",
    "# Returns a match object if found, else None\n",
    "\n"
   ]
  },
  {
   "cell_type": "code",
   "execution_count": 4,
   "id": "37dc41f2-1703-4f7c-8f6d-df7e9d9652b0",
   "metadata": {},
   "outputs": [
    {
     "name": "stdout",
     "output_type": "stream",
     "text": [
      "<re.Match object; span=(0, 5), match='Hello'>\n"
     ]
    }
   ],
   "source": [
    "result = re.match(r'Hello', 'Hello World')\n",
    "print(result)  # Match found\n"
   ]
  },
  {
   "cell_type": "code",
   "execution_count": 5,
   "id": "9f3665ca-f468-4ba6-81e8-e7522bd44104",
   "metadata": {},
   "outputs": [
    {
     "name": "stdout",
     "output_type": "stream",
     "text": [
      "None\n"
     ]
    }
   ],
   "source": [
    "result = re.match(r'World', 'Hello World')\n",
    "print(result)  # None (since 'World' is not at the beginning)\n"
   ]
  },
  {
   "cell_type": "code",
   "execution_count": 6,
   "id": "4506ec8d-0133-4fad-a889-5b388fb5e31e",
   "metadata": {},
   "outputs": [],
   "source": [
    "# re.search()\n",
    "# Searches the entire string for the first match\n",
    "\n",
    "# Returns a match object if found, else None"
   ]
  },
  {
   "cell_type": "code",
   "execution_count": 7,
   "id": "57f00675-6053-463a-8f98-283359d290bc",
   "metadata": {},
   "outputs": [
    {
     "name": "stdout",
     "output_type": "stream",
     "text": [
      "<re.Match object; span=(6, 11), match='World'>\n"
     ]
    }
   ],
   "source": [
    "result = re.search(r'World', 'Hello World')\n",
    "print(result)  # Match found (even though 'World' is not at the beginning)\n"
   ]
  },
  {
   "cell_type": "code",
   "execution_count": 8,
   "id": "e43b744b-7551-43f5-aada-43cf17afd4f3",
   "metadata": {},
   "outputs": [],
   "source": [
    "# re.findall()\n",
    "# Returns all non-overlapping matches in a list\n",
    "\n",
    "# If no match, returns an empty list"
   ]
  },
  {
   "cell_type": "code",
   "execution_count": 9,
   "id": "c04a88ec-c08d-4a57-bbe2-b2caaa6f9cce",
   "metadata": {},
   "outputs": [
    {
     "name": "stdout",
     "output_type": "stream",
     "text": [
      "['12345', '67890']\n"
     ]
    }
   ],
   "source": [
    "result = re.findall(r'\\d+', 'My phone number is 12345 and pin is 67890')\n",
    "print(result)  # ['12345', '67890']\n"
   ]
  },
  {
   "cell_type": "code",
   "execution_count": 10,
   "id": "119d1f92-5abe-47ae-8090-bc442d3aabe2",
   "metadata": {},
   "outputs": [],
   "source": [
    "# re.finditer()\n",
    "# Returns an iterator yielding match objects for all matches\n",
    "\n",
    "# You can loop over the iterator to access each match"
   ]
  },
  {
   "cell_type": "code",
   "execution_count": 11,
   "id": "8d33ee38-0c88-424f-9e3e-5442c5a9ef97",
   "metadata": {},
   "outputs": [
    {
     "name": "stdout",
     "output_type": "stream",
     "text": [
      "12345\n",
      "67890\n"
     ]
    }
   ],
   "source": [
    "result = re.finditer(r'\\d+', 'My phone number is 12345 and pin is 67890')\n",
    "for match in result:\n",
    "    print(match.group())  # Prints: 12345 then 67890\n"
   ]
  },
  {
   "cell_type": "code",
   "execution_count": 12,
   "id": "acd1bd05-0004-4979-a631-6f72ce5a6b3e",
   "metadata": {},
   "outputs": [
    {
     "name": "stdout",
     "output_type": "stream",
     "text": [
      "abc\n"
     ]
    }
   ],
   "source": [
    "import re  # Import the regular expression module\n",
    "\n",
    "my_string = 'abc123ABC123abc'  # The string to search in\n",
    "\n",
    "pattern = re.compile(r'abc')  # Compiling a regex pattern to match 'abc' exactly\n",
    "\n",
    "matches = pattern.match(my_string)  # Using match() → checks only at the beginning of my_string\n",
    "# Since 'abc' is at the beginning, this will return a match object\n",
    "\n",
    "print(matches.group())  # Output the matched text → will print 'abc'\n"
   ]
  },
  {
   "cell_type": "code",
   "execution_count": 13,
   "id": "1d06d0fe-885c-4684-88e2-d4400659ccc7",
   "metadata": {},
   "outputs": [
    {
     "name": "stdout",
     "output_type": "stream",
     "text": [
      "123\n",
      "123\n"
     ]
    }
   ],
   "source": [
    "pattern=re.compile(r'123')\n",
    "matches=pattern.findall(my_string)\n",
    "for match in matches:\n",
    "    print(match)"
   ]
  },
  {
   "cell_type": "code",
   "execution_count": 14,
   "id": "fe72d648-929f-4011-9fe8-e9eaf4c79a8f",
   "metadata": {},
   "outputs": [
    {
     "name": "stdout",
     "output_type": "stream",
     "text": [
      "<re.Match object; span=(3, 6), match='123'>\n"
     ]
    }
   ],
   "source": [
    "match=pattern.search(my_string)\n",
    "print(match)"
   ]
  },
  {
   "cell_type": "code",
   "execution_count": 15,
   "id": "067c73c5-d707-4786-8fe6-e2be0a473330",
   "metadata": {},
   "outputs": [
    {
     "name": "stdout",
     "output_type": "stream",
     "text": [
      "(3, 6) 3 6\n"
     ]
    }
   ],
   "source": [
    "print(match.span(),match.start(),match.end())"
   ]
  },
  {
   "cell_type": "code",
   "execution_count": 16,
   "id": "f84696b9-cc78-45b5-93bb-84d01b762533",
   "metadata": {},
   "outputs": [
    {
     "name": "stdout",
     "output_type": "stream",
     "text": [
      "123\n"
     ]
    }
   ],
   "source": [
    "print(match.group())"
   ]
  },
  {
   "cell_type": "code",
   "execution_count": null,
   "id": "72b6cd81-0a80-43f0-9685-d4d8675e857e",
   "metadata": {},
   "outputs": [],
   "source": []
  },
  {
   "cell_type": "markdown",
   "id": "7c5c1398-2303-4d21-84e8-f7eaa4b3f897",
   "metadata": {},
   "source": [
    "<table border=\"1\" style=\"border-collapse: collapse; color: purple; font-weight: bold;\">\n",
    "  <tr>\n",
    "    <th>Meta Character</th>\n",
    "    <th>Meaning</th>\n",
    "    <th>Example</th>\n",
    "    <th>Matches</th>\n",
    "  </tr>\n",
    "  <tr>\n",
    "    <td>.</td>\n",
    "    <td>Any single character except newline</td>\n",
    "    <td>a.b</td>\n",
    "    <td>acb, a1b</td>\n",
    "  </tr>\n",
    "  <tr>\n",
    "    <td>^</td>\n",
    "    <td>Start of string</td>\n",
    "    <td>^abc</td>\n",
    "    <td>abc123 (but not 123abc)</td>\n",
    "  </tr>\n",
    "  <tr>\n",
    "    <td>$</td>\n",
    "    <td>End of string</td>\n",
    "    <td>abc$</td>\n",
    "    <td>123abc</td>\n",
    "  </tr>\n",
    "  <tr>\n",
    "    <td>*</td>\n",
    "    <td>0 or more repetitions</td>\n",
    "    <td>ab*</td>\n",
    "    <td>a, ab, abb, abbb</td>\n",
    "  </tr>\n",
    "  <tr>\n",
    "    <td>+</td>\n",
    "    <td>1 or more repetitions</td>\n",
    "    <td>ab+</td>\n",
    "    <td>ab, abb (but not a)</td>\n",
    "  </tr>\n",
    "  <tr>\n",
    "    <td>?</td>\n",
    "    <td>0 or 1 occurrence</td>\n",
    "    <td>ab?</td>\n",
    "    <td>a or ab</td>\n",
    "  </tr>\n",
    "  <tr>\n",
    "    <td>{n}</td>\n",
    "    <td>Exactly n times</td>\n",
    "    <td>a{3}</td>\n",
    "    <td>aaa</td>\n",
    "  </tr>\n",
    "  <tr>\n",
    "    <td>{n,}</td>\n",
    "    <td>n or more times</td>\n",
    "    <td>a{2,}</td>\n",
    "    <td>aa, aaa, aaaa</td>\n",
    "  </tr>\n",
    "  <tr>\n",
    "    <td>{n,m}</td>\n",
    "    <td>Between n and m times</td>\n",
    "    <td>a{2,4}</td>\n",
    "    <td>aa, aaa, aaaa</td>\n",
    "  </tr>\n",
    "  <tr>\n",
    "    <td>[]</td>\n",
    "    <td>Character set</td>\n",
    "    <td>[abc]</td>\n",
    "    <td>a, b, or c</td>\n",
    "  </tr>\n",
    "  <tr>\n",
    "    <td>[^]</td>\n",
    "    <td>Negated set</td>\n",
    "    <td>[^abc]</td>\n",
    "    <td>Any character except a, b, c</td>\n",
    "  </tr>\n",
    "  <tr>\n",
    "    <td>\\</td>\n",
    "    <td>Escape character</td>\n",
    "    <td>\\.</td>\n",
    "    <td>Literal .</td>\n",
    "  </tr>\n",
    "  <tr>\n",
    "    <td>|</td>\n",
    "    <td>OR operator</td>\n",
    "    <td>a|b</td>\n",
    "    <td>a or b</td>\n",
    "  </tr>\n",
    "  <tr>\n",
    "    <td>()</td>\n",
    "    <td>Grouping</td>\n",
    "    <td>(ab)+</td>\n",
    "    <td>ab, abab, ababab</td>\n",
    "  </tr>\n",
    "</table>\n"
   ]
  },
  {
   "cell_type": "code",
   "execution_count": null,
   "id": "711ee1e2-731c-46ec-8018-cc587ee52164",
   "metadata": {},
   "outputs": [],
   "source": []
  },
  {
   "cell_type": "code",
   "execution_count": 17,
   "id": "b013f534-b7d6-4c78-9a77-c103288f5f43",
   "metadata": {},
   "outputs": [
    {
     "name": "stdout",
     "output_type": "stream",
     "text": [
      "<re.Match object; span=(0, 3), match='abc'>\n",
      "<re.Match object; span=(4, 7), match='123'>\n",
      "['123', '456']\n",
      "<re.Match object; span=(11, 14), match='456'>\n"
     ]
    }
   ],
   "source": [
    "import re\n",
    "\n",
    "text = \"abc 123 abc456\"\n",
    "\n",
    "# Match 'abc' at start of string\n",
    "print(re.match(r'^abc', text))  # ✅ Match object\n",
    "\n",
    "# Search '123' anywhere\n",
    "print(re.search(r'123', text))  # ✅ Match object\n",
    "\n",
    "# Find all digits (one or more)\n",
    "print(re.findall(r'\\d+', text))  # ✅ ['123', '456']\n",
    "\n",
    "# Find anything that ends with '456'\n",
    "print(re.search(r'456$', text))  # ✅ Match object\n"
   ]
  },
  {
   "cell_type": "code",
   "execution_count": null,
   "id": "1817388a-46ef-4335-b1ab-2e879815a3c2",
   "metadata": {},
   "outputs": [],
   "source": []
  },
  {
   "cell_type": "code",
   "execution_count": 18,
   "id": "787f2132-7890-4fe5-8492-566c92b34e22",
   "metadata": {},
   "outputs": [
    {
     "name": "stdout",
     "output_type": "stream",
     "text": [
      "<re.Match object; span=(16, 17), match='.'>\n"
     ]
    }
   ],
   "source": [
    "test_string='python-engineers.com'\n",
    "pattern=re.compile(r'\\.')\n",
    "matches=pattern.finditer(test_string)\n",
    "for match in matches:\n",
    "    print(match)"
   ]
  },
  {
   "cell_type": "code",
   "execution_count": null,
   "id": "353a1bd7-74d0-49c7-b517-7af3d5b1065e",
   "metadata": {},
   "outputs": [],
   "source": []
  },
  {
   "cell_type": "markdown",
   "id": "fbb875b9-c2d0-47b5-9efd-e08b022010e0",
   "metadata": {},
   "source": [
    "<table border=\"1\" style=\"border-collapse: collapse; color: purple; font-weight: bold;\">\n",
    "\n",
    "  <tr>\n",
    "    <th>Category</th>\n",
    "    <th>Meta Character</th>\n",
    "    <th>Meaning</th>\n",
    "    <th>Example</th>\n",
    "    <th>Matches</th>\n",
    "  </tr>\n",
    "\n",
    "  <!-- Anchors & Boundaries -->\n",
    "  <tr><td colspan=\"5\" style=\"text-align:center; background-color: #f0e6ff;\">Anchors & Boundaries</td></tr>\n",
    "\n",
    "  <tr><td>Anchors & Boundaries</td><td>^</td><td>Start of string</td><td>^abc</td><td>Matches if string starts with 'abc'</td></tr>\n",
    "  <tr><td>Anchors & Boundaries</td><td>$</td><td>End of string</td><td>abc$</td><td>Matches if string ends with 'abc'</td></tr>\n",
    "  <tr><td>Anchors & Boundaries</td><td>\\b</td><td>Word boundary</td><td>\\babc\\b</td><td>Matches 'abc' as a separate word</td></tr>\n",
    "  <tr><td>Anchors & Boundaries</td><td>\\B</td><td>Non-word boundary</td><td>\\Babc\\B</td><td>Matches 'abc' inside words (not at boundary)</td></tr>\n",
    "\n",
    "  <!-- Character Classes -->\n",
    "  <tr><td colspan=\"5\" style=\"text-align:center; background-color: #f0e6ff;\">Character Classes (Shortcuts)</td></tr>\n",
    "\n",
    "  <tr><td>Character Classes</td><td>\\d</td><td>Digit (0-9)</td><td>\\d</td><td>Matches digits like 5</td></tr>\n",
    "  <tr><td>Character Classes</td><td>\\D</td><td>Non-digit</td><td>\\D</td><td>Matches characters like a</td></tr>\n",
    "  <tr><td>Character Classes</td><td>\\w</td><td>Alphanumeric or underscore</td><td>\\w</td><td>Matches a, 5, _</td></tr>\n",
    "  <tr><td>Character Classes</td><td>\\W</td><td>Non-word character</td><td>\\W</td><td>Matches @, #</td></tr>\n",
    "  <tr><td>Character Classes</td><td>\\s</td><td>Whitespace character</td><td>\\s</td><td>Matches space, tab, newline</td></tr>\n",
    "  <tr><td>Character Classes</td><td>\\S</td><td>Non-whitespace character</td><td>\\S</td><td>Matches letters, numbers</td></tr>\n",
    "\n",
    "  <!-- Quantifiers -->\n",
    "  <tr><td colspan=\"5\" style=\"text-align:center; background-color: #f0e6ff;\">Quantifiers</td></tr>\n",
    "\n",
    "  <tr><td>Quantifiers</td><td>*</td><td>0 or more repetitions</td><td>a*</td><td>Matches '', 'a', 'aa'</td></tr>\n",
    "  <tr><td>Quantifiers</td><td>+</td><td>1 or more repetitions</td><td>a+</td><td>Matches 'a', 'aa'</td></tr>\n",
    "  <tr><td>Quantifiers</td><td>?</td><td>0 or 1 occurrence</td><td>a?</td><td>Matches '', 'a'</td></tr>\n",
    "  <tr><td>Quantifiers</td><td>{n}</td><td>Exactly n times</td><td>a{3}</td><td>Matches 'aaa'</td></tr>\n",
    "  <tr><td>Quantifiers</td><td>{n,}</td><td>n or more times</td><td>a{2,}</td><td>Matches 'aa', 'aaa'</td></tr>\n",
    "  <tr><td>Quantifiers</td><td>{n,m}</td><td>Between n and m times</td><td>a{2,4}</td><td>Matches 'aa', 'aaa', 'aaaa'</td></tr>\n",
    "\n",
    "  <!-- Groups & Lookarounds -->\n",
    "  <tr><td colspan=\"5\" style=\"text-align:center; background-color: #f0e6ff;\">Groups & Lookarounds</td></tr>\n",
    "\n",
    "  <tr><td>Groups & Lookarounds</td><td>()</td><td>Grouping</td><td>(ab)+</td><td>Matches 'ab', 'abab'</td></tr>\n",
    "  <tr><td>Groups & Lookarounds</td><td>|</td><td>OR operator</td><td>a|b</td><td>Matches 'a' or 'b'</td></tr>\n",
    "  <tr><td>Groups & Lookarounds</td><td>(?=...)</td><td>Positive lookahead</td><td>a(?=b)</td><td>Matches 'a' only if 'b' follows</td></tr>\n",
    "  <tr><td>Groups & Lookarounds</td><td>(?!...)</td><td>Negative lookahead</td><td>a(?!b)</td><td>Matches 'a' only if 'b' does not follow</td></tr>\n",
    "  <tr><td>Groups & Lookarounds</td><td>(?&lt;=...)</td><td>Positive lookbehind</td><td>(?&lt;=a)b</td><td>Matches 'b' only if preceded by 'a'</td></tr>\n",
    "  <tr><td>Groups & Lookarounds</td><td>(?&lt;!...)</td><td>Negative lookbehind</td><td>(?&lt;!a)b</td><td>Matches 'b' only if not preceded by 'a'</td></tr>\n",
    "\n",
    "  <!-- Escaping -->\n",
    "  <tr><td colspan=\"5\" style=\"text-align:center; background-color: #f0e6ff;\">Escaping Special Characters</td></tr>\n",
    "\n",
    "  <tr><td>Escaping</td><td>\\</td><td>Escape special characters</td><td>\\$</td><td>Matches literal '$'</td></tr>\n",
    "\n",
    "</table>\n"
   ]
  },
  {
   "cell_type": "code",
   "execution_count": 19,
   "id": "87759849-6038-480b-a373-ad90e47f5f1f",
   "metadata": {},
   "outputs": [],
   "source": [
    "test_string=\"hello 123_heyho hohey\""
   ]
  },
  {
   "cell_type": "code",
   "execution_count": 23,
   "id": "699ff44a-d787-4de7-b936-e98fd64f0e46",
   "metadata": {},
   "outputs": [
    {
     "name": "stdout",
     "output_type": "stream",
     "text": [
      "1\n",
      "2\n",
      "3\n"
     ]
    }
   ],
   "source": [
    "pattern=re.compile(r'\\d')\n",
    "matches=pattern.findall(test_string)\n",
    "for match in matches:\n",
    "    print(match)"
   ]
  },
  {
   "cell_type": "code",
   "execution_count": 24,
   "id": "1bf2eeec-7e53-43e0-b8f9-de13d7ca59e4",
   "metadata": {},
   "outputs": [
    {
     "name": "stdout",
     "output_type": "stream",
     "text": [
      "<re.Match object; span=(0, 1), match='h'>\n",
      "<re.Match object; span=(1, 2), match='e'>\n",
      "<re.Match object; span=(2, 3), match='l'>\n",
      "<re.Match object; span=(3, 4), match='l'>\n",
      "<re.Match object; span=(4, 5), match='o'>\n",
      "<re.Match object; span=(6, 7), match='1'>\n",
      "<re.Match object; span=(7, 8), match='2'>\n",
      "<re.Match object; span=(8, 9), match='3'>\n",
      "<re.Match object; span=(9, 10), match='_'>\n",
      "<re.Match object; span=(10, 11), match='h'>\n",
      "<re.Match object; span=(11, 12), match='e'>\n",
      "<re.Match object; span=(12, 13), match='y'>\n",
      "<re.Match object; span=(13, 14), match='h'>\n",
      "<re.Match object; span=(14, 15), match='o'>\n",
      "<re.Match object; span=(16, 17), match='h'>\n",
      "<re.Match object; span=(17, 18), match='o'>\n",
      "<re.Match object; span=(18, 19), match='h'>\n",
      "<re.Match object; span=(19, 20), match='e'>\n",
      "<re.Match object; span=(20, 21), match='y'>\n"
     ]
    }
   ],
   "source": [
    "pattern=re.compile(r'\\S')\n",
    "matches=pattern.finditer(test_string)\n",
    "for match in matches:\n",
    "    print(match)"
   ]
  },
  {
   "cell_type": "code",
   "execution_count": 25,
   "id": "91927bfc-a006-4df0-80cc-81e2a3af299d",
   "metadata": {},
   "outputs": [
    {
     "name": "stdout",
     "output_type": "stream",
     "text": [
      "<re.Match object; span=(0, 1), match='h'>\n",
      "<re.Match object; span=(1, 2), match='e'>\n",
      "<re.Match object; span=(2, 3), match='l'>\n",
      "<re.Match object; span=(3, 4), match='l'>\n",
      "<re.Match object; span=(4, 5), match='o'>\n",
      "<re.Match object; span=(6, 7), match='1'>\n",
      "<re.Match object; span=(7, 8), match='2'>\n",
      "<re.Match object; span=(8, 9), match='3'>\n",
      "<re.Match object; span=(9, 10), match='_'>\n",
      "<re.Match object; span=(10, 11), match='h'>\n",
      "<re.Match object; span=(11, 12), match='e'>\n",
      "<re.Match object; span=(12, 13), match='y'>\n",
      "<re.Match object; span=(13, 14), match='h'>\n",
      "<re.Match object; span=(14, 15), match='o'>\n",
      "<re.Match object; span=(16, 17), match='h'>\n",
      "<re.Match object; span=(17, 18), match='o'>\n",
      "<re.Match object; span=(18, 19), match='h'>\n",
      "<re.Match object; span=(19, 20), match='e'>\n",
      "<re.Match object; span=(20, 21), match='y'>\n"
     ]
    }
   ],
   "source": [
    "pattern=re.compile(r'\\w')\n",
    "matches=pattern.finditer(test_string)\n",
    "for match in matches:\n",
    "    print(match)"
   ]
  },
  {
   "cell_type": "markdown",
   "id": "0fafe340-e254-4158-80a3-5d029f856944",
   "metadata": {},
   "source": [
    "<table border=\"1\" cellpadding=\"5\" cellspacing=\"0\" style=\"border-collapse: collapse; color: purple; font-family: Arial;\">\n",
    "  <thead style=\"background-color: #f3e5f5; color: purple;\">\n",
    "    <tr>\n",
    "      <th>Pattern</th>\n",
    "      <th>Meaning</th>\n",
    "      <th>Matches Examples</th>\n",
    "    </tr>\n",
    "  </thead>\n",
    "  <tbody>\n",
    "    <tr>\n",
    "      <td><code>[arn]</code></td>\n",
    "      <td>Matches <strong>one character</strong>: <code>a</code>, <code>r</code>, or <code>n</code></td>\n",
    "      <td><code>a</code>, <code>r</code>, <code>n</code></td>\n",
    "    </tr>\n",
    "    <tr>\n",
    "      <td><code>[a-n]</code></td>\n",
    "      <td>Matches <strong>any lowercase letter</strong> from <code>a</code> to <code>n</code></td>\n",
    "      <td><code>a</code>, <code>b</code>, ..., <code>n</code></td>\n",
    "    </tr>\n",
    "    <tr>\n",
    "      <td><code>[^arn]</code></td>\n",
    "      <td>Matches <strong>any character except</strong> <code>a</code>, <code>r</code>, or <code>n</code></td>\n",
    "      <td><code>b</code>, <code>c</code>, <code>z</code>, <code>1</code></td>\n",
    "    </tr>\n",
    "    <tr>\n",
    "      <td><code>[0123]</code></td>\n",
    "      <td>Matches <strong>one digit</strong> <code>0</code>, <code>1</code>, <code>2</code>, or <code>3</code></td>\n",
    "      <td><code>0</code>, <code>1</code>, <code>2</code>, <code>3</code></td>\n",
    "    </tr>\n",
    "    <tr>\n",
    "      <td><code>[0-9]</code></td>\n",
    "      <td>Matches <strong>any single digit</strong> (0–9)</td>\n",
    "      <td><code>0</code>, <code>5</code>, <code>9</code></td>\n",
    "    </tr>\n",
    "    <tr>\n",
    "      <td><code>[0-5]</code></td>\n",
    "      <td>Matches <strong>digits</strong> <code>0</code> to <code>5</code> only</td>\n",
    "      <td><code>0</code>, <code>1</code>, <code>2</code>, <code>3</code>, <code>4</code>, <code>5</code></td>\n",
    "    </tr>\n",
    "    <tr>\n",
    "      <td><code>[a-zA-Z]</code></td>\n",
    "      <td>Matches <strong>any uppercase or lowercase English letter</strong></td>\n",
    "      <td><code>a</code>, <code>b</code>, ..., <code>z</code>, <code>A</code>, <code>B</code>, ..., <code>Z</code></td>\n",
    "    </tr>\n",
    "  </tbody>\n",
    "</table>\n"
   ]
  },
  {
   "cell_type": "code",
   "execution_count": 26,
   "id": "2ed92cc4-a434-424d-9c40-3ae13db06bad",
   "metadata": {},
   "outputs": [
    {
     "name": "stdout",
     "output_type": "stream",
     "text": [
      "['a', 'a', 'n']\n",
      "['1', '2', '3']\n",
      "['a', 'm', 'a', 'n']\n",
      "['R', 'm', '1', '2', '3']\n",
      "['R', 'a', 'm', 'a', 'n']\n"
     ]
    }
   ],
   "source": [
    "import re\n",
    "\n",
    "text = \"Ram123an\"\n",
    "\n",
    "# Find all a, r, or n\n",
    "print(re.findall(r'[arn]', text))  # ['R', 'a', 'a', 'n']\n",
    "\n",
    "# Find all digits 0-3\n",
    "print(re.findall(r'[0123]', text))  # ['1', '2', '3']\n",
    "\n",
    "# Find letters a-n only\n",
    "print(re.findall(r'[a-n]', text))  # ['a', 'm', 'a', 'n']\n",
    "\n",
    "# Find letters NOT a, r, n\n",
    "print(re.findall(r'[^arn]', text))  # ['m', '1', '2', '3']\n",
    "\n",
    "# Find all letters\n",
    "print(re.findall(r'[a-zA-Z]', text))  # ['R', 'a', 'm', 'a', 'n']\n"
   ]
  },
  {
   "cell_type": "code",
   "execution_count": null,
   "id": "39a775a4-1505-4622-878f-cdd5ac064a65",
   "metadata": {},
   "outputs": [],
   "source": []
  }
 ],
 "metadata": {
  "kernelspec": {
   "display_name": "Python [conda env:base] *",
   "language": "python",
   "name": "conda-base-py"
  },
  "language_info": {
   "codemirror_mode": {
    "name": "ipython",
    "version": 3
   },
   "file_extension": ".py",
   "mimetype": "text/x-python",
   "name": "python",
   "nbconvert_exporter": "python",
   "pygments_lexer": "ipython3",
   "version": "3.13.5"
  }
 },
 "nbformat": 4,
 "nbformat_minor": 5
}
